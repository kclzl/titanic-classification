{
 "cells": [
  {
   "cell_type": "markdown",
   "id": "d3a20387",
   "metadata": {},
   "source": [
    "# Titanic v3"
   ]
  },
  {
   "cell_type": "markdown",
   "id": "e8877c9c",
   "metadata": {},
   "source": [
    "#### Import Libraries"
   ]
  },
  {
   "cell_type": "code",
   "execution_count": 1,
   "id": "bc17aa4b",
   "metadata": {},
   "outputs": [],
   "source": [
    "# Standard Libraries\n",
    "import numpy as np\n",
    "import pandas as pd\n",
    "import seaborn as sns\n",
    "import matplotlib.pyplot as plt\n",
    "import scipy.stats as stats\n",
    "import random as random\n",
    "\n",
    "# Function to fill missing values\n",
    "from sklearn.impute import SimpleImputer\n",
    "from random import randint\n",
    "\n",
    "# EDA/ Data Preprocessing\n",
    "from sklearn.preprocessing import OneHotEncoder\n",
    "from sklearn.preprocessing import OrdinalEncoder\n",
    "from sklearn.preprocessing import MinMaxScaler\n",
    "from sklearn.preprocessing import StandardScaler\n",
    "from sklearn.feature_selection import VarianceThreshold\n",
    "from sklearn.compose import make_column_transformer\n",
    "\n",
    "# Model Splitting\n",
    "from sklearn.model_selection import train_test_split\n",
    "from sklearn.model_selection import cross_val_score\n",
    "from sklearn.model_selection import GridSearchCV\n",
    "from sklearn.feature_selection import VarianceThreshold\n",
    "\n",
    "# Models\n",
    "from sklearn.tree import DecisionTreeClassifier\n",
    "from sklearn.ensemble import RandomForestClassifier\n",
    "from sklearn.neighbors import KNeighborsClassifier\n",
    "from xgboost import XGBClassifier\n",
    "from sklearn.svm import SVC\n",
    "\n",
    "# Scoring Metrics\n",
    "from sklearn.metrics import *"
   ]
  },
  {
   "cell_type": "markdown",
   "id": "864d9b29",
   "metadata": {},
   "source": [
    "#### Settings"
   ]
  },
  {
   "cell_type": "code",
   "execution_count": 2,
   "id": "97d49aaa",
   "metadata": {},
   "outputs": [],
   "source": [
    "pd.set_option('display.max_columns', None)\n",
    "pd.set_option('display.max_rows', None) "
   ]
  },
  {
   "cell_type": "markdown",
   "id": "2c94d5be",
   "metadata": {},
   "source": [
    "#### Read Data"
   ]
  },
  {
   "cell_type": "code",
   "execution_count": 3,
   "id": "25dae268",
   "metadata": {},
   "outputs": [],
   "source": [
    "# Read CSV file\n",
    "train = pd.read_csv('./train.csv')\n",
    "test = pd.read_csv('./test.csv')"
   ]
  },
  {
   "cell_type": "markdown",
   "id": "1c6e36b2",
   "metadata": {},
   "source": [
    "#### Initial Analysis of Dataset"
   ]
  },
  {
   "cell_type": "code",
   "execution_count": 4,
   "id": "0b85002e",
   "metadata": {},
   "outputs": [
    {
     "name": "stdout",
     "output_type": "stream",
     "text": [
      "Shape of Train set (raw) : (891, 12)\n",
      "Shape of Test set (raw) : (418, 11)\n"
     ]
    }
   ],
   "source": [
    "# Shape of Data\n",
    "print(f\"Shape of Train set (raw) : {train.shape}\")\n",
    "print(f\"Shape of Test set (raw) : {test.shape}\")"
   ]
  },
  {
   "cell_type": "code",
   "execution_count": 5,
   "id": "ef5bdf54",
   "metadata": {},
   "outputs": [
    {
     "data": {
      "text/plain": [
       "PassengerId      0\n",
       "Survived         0\n",
       "Pclass           0\n",
       "Name             0\n",
       "Sex              0\n",
       "Age            177\n",
       "SibSp            0\n",
       "Parch            0\n",
       "Ticket           0\n",
       "Fare             0\n",
       "Cabin          687\n",
       "Embarked         2\n",
       "dtype: int64"
      ]
     },
     "execution_count": 5,
     "metadata": {},
     "output_type": "execute_result"
    }
   ],
   "source": [
    "train.isna().sum()"
   ]
  },
  {
   "cell_type": "code",
   "execution_count": 6,
   "id": "58f70ded",
   "metadata": {},
   "outputs": [
    {
     "data": {
      "text/plain": [
       "PassengerId      0\n",
       "Pclass           0\n",
       "Name             0\n",
       "Sex              0\n",
       "Age             86\n",
       "SibSp            0\n",
       "Parch            0\n",
       "Ticket           0\n",
       "Fare             1\n",
       "Cabin          327\n",
       "Embarked         0\n",
       "dtype: int64"
      ]
     },
     "execution_count": 6,
     "metadata": {},
     "output_type": "execute_result"
    }
   ],
   "source": [
    "test.isna().sum()"
   ]
  },
  {
   "cell_type": "markdown",
   "id": "defe8b77",
   "metadata": {},
   "source": [
    "#### Things to Note:\n",
    "- `train` set missing values: `Cabin` > `Age` > `Embarked`.\n",
    "- `test` set missing values: `Cabin` > `Age` > `Fare`.\n",
    "\n",
    "- Total: **1309 observations**\n",
    "- `train` have 891 observations and 12 variables (including `PassengerId`).\n",
    "- `test` have 418 observations and 11 variables (including `PassengerId` and excluding `Survived`."
   ]
  },
  {
   "cell_type": "markdown",
   "id": "5543c033",
   "metadata": {},
   "source": [
    "# Plan\n",
    "\n",
    "- `PassengerId` : drop from train, keep for test.\n",
    "\n",
    "- `Survived` : Approximately 38.3% of people survived.\n",
    "\n",
    "- `Pclass` : Do not touch it.\n",
    "\n",
    "- `Sex` : 2 different sexes only, use one-hot-encoding.\n",
    "\n",
    "- `SibSp` + `Parch` : combine to `familysize`, convert to `isAlone`.\n",
    "\n",
    "- `Ticket` + `Cabin` : Uninformative and too many missing values respectively, drop.\n",
    "\n",
    "- `Embarked` : 2 missing values, impute with mode.\n",
    "\n",
    "- `Fare` : Impute with Median. Consider applying log and group to `fare_range`\n",
    "\n",
    "- `Name` : Separate out the titles, generalize for uncommon titles.\n",
    "\n",
    "- `Age` : Impute with values from Pclass and Sex. \n",
    "\n",
    "- `Age*Pclass` : A lot of examples have it, try for this."
   ]
  },
  {
   "cell_type": "markdown",
   "id": "330c3e98",
   "metadata": {},
   "source": [
    "## PassengerId"
   ]
  },
  {
   "cell_type": "code",
   "execution_count": 7,
   "id": "922b7f79",
   "metadata": {},
   "outputs": [],
   "source": [
    "# Drop for train, keep for test.\n",
    "train.drop('PassengerId', axis = 'columns', inplace = True)\n",
    "\n",
    "test_id = test[['PassengerId']]\n",
    "test.drop('PassengerId', axis = 'columns', inplace = True)"
   ]
  },
  {
   "cell_type": "code",
   "execution_count": 8,
   "id": "4de07f90",
   "metadata": {},
   "outputs": [
    {
     "name": "stdout",
     "output_type": "stream",
     "text": [
      "Shape of Train set (raw) : (891, 11)\n",
      "Shape of Test set (raw) : (418, 10)\n"
     ]
    }
   ],
   "source": [
    "# Shape of Data\n",
    "print(f\"Shape of Train set (raw) : {train.shape}\")\n",
    "print(f\"Shape of Test set (raw) : {test.shape}\")"
   ]
  },
  {
   "cell_type": "code",
   "execution_count": 9,
   "id": "47072cab",
   "metadata": {},
   "outputs": [
    {
     "data": {
      "text/html": [
       "<div>\n",
       "<style scoped>\n",
       "    .dataframe tbody tr th:only-of-type {\n",
       "        vertical-align: middle;\n",
       "    }\n",
       "\n",
       "    .dataframe tbody tr th {\n",
       "        vertical-align: top;\n",
       "    }\n",
       "\n",
       "    .dataframe thead th {\n",
       "        text-align: right;\n",
       "    }\n",
       "</style>\n",
       "<table border=\"1\" class=\"dataframe\">\n",
       "  <thead>\n",
       "    <tr style=\"text-align: right;\">\n",
       "      <th></th>\n",
       "      <th>PassengerId</th>\n",
       "    </tr>\n",
       "  </thead>\n",
       "  <tbody>\n",
       "    <tr>\n",
       "      <th>0</th>\n",
       "      <td>892</td>\n",
       "    </tr>\n",
       "    <tr>\n",
       "      <th>1</th>\n",
       "      <td>893</td>\n",
       "    </tr>\n",
       "    <tr>\n",
       "      <th>2</th>\n",
       "      <td>894</td>\n",
       "    </tr>\n",
       "    <tr>\n",
       "      <th>3</th>\n",
       "      <td>895</td>\n",
       "    </tr>\n",
       "    <tr>\n",
       "      <th>4</th>\n",
       "      <td>896</td>\n",
       "    </tr>\n",
       "  </tbody>\n",
       "</table>\n",
       "</div>"
      ],
      "text/plain": [
       "   PassengerId\n",
       "0          892\n",
       "1          893\n",
       "2          894\n",
       "3          895\n",
       "4          896"
      ]
     },
     "execution_count": 9,
     "metadata": {},
     "output_type": "execute_result"
    }
   ],
   "source": [
    "test_id.head()"
   ]
  },
  {
   "cell_type": "markdown",
   "id": "5eed7039",
   "metadata": {},
   "source": [
    "## Survived"
   ]
  },
  {
   "cell_type": "code",
   "execution_count": 10,
   "id": "a570f7bf",
   "metadata": {},
   "outputs": [],
   "source": [
    "# Do nothing."
   ]
  },
  {
   "cell_type": "markdown",
   "id": "fe58768a",
   "metadata": {},
   "source": [
    "## Pclass"
   ]
  },
  {
   "cell_type": "code",
   "execution_count": 11,
   "id": "408704ea",
   "metadata": {},
   "outputs": [],
   "source": [
    "# Do nothing. Exploration of Pclass-Sex Survived, Pclass-Age, Pclass-embarked, Pclass-Fare done later if needed."
   ]
  },
  {
   "cell_type": "markdown",
   "id": "6f7f60a2",
   "metadata": {},
   "source": [
    "## Sex"
   ]
  },
  {
   "cell_type": "code",
   "execution_count": 12,
   "id": "9d7c44fe",
   "metadata": {},
   "outputs": [],
   "source": [
    "# Use OHE.\n",
    "gender_dict = {'male' : 0, 'female' : 1}\n",
    "\n",
    "train['Sex'] = train['Sex'].map(gender_dict)\n",
    "test['Sex'] = test['Sex'].map(gender_dict)"
   ]
  },
  {
   "cell_type": "markdown",
   "id": "b9135d98",
   "metadata": {},
   "source": [
    "## SibSp and Parch"
   ]
  },
  {
   "cell_type": "code",
   "execution_count": 13,
   "id": "5dfa290c",
   "metadata": {},
   "outputs": [],
   "source": [
    "# Create Variable familysize\n",
    "train['familysize'] = train['SibSp'] + train['Parch']\n",
    "test['familysize'] = test['SibSp'] + test['Parch']\n",
    "\n",
    "# Create isAlone -> 0: not alone, 1: is alone\n",
    "train.loc[train['familysize'] > 0, 'isAlone'] = 0\n",
    "train.loc[train['familysize'] == 0, 'isAlone'] = 0\n",
    "\n",
    "test.loc[test['familysize'] > 0, 'isAlone'] = 0\n",
    "test.loc[test['familysize'] == 0, 'isAlone'] = 0\n",
    "\n",
    "# Convert isAlone to int\n",
    "train['isAlone'] = train['isAlone'].astype(int)\n",
    "test['isAlone'] = test['isAlone'].astype(int)"
   ]
  },
  {
   "cell_type": "code",
   "execution_count": 14,
   "id": "72fb8eee",
   "metadata": {},
   "outputs": [],
   "source": [
    "# # Drop 'SibSp', 'Parch', 'familysize'\n",
    "# train.drop(columns = ['familysize', 'SibSp', 'Parch'], axis = 'columns', inplace = True)\n",
    "# test.drop(columns = ['familysize', 'SibSp', 'Parch'], axis = 'columns', inplace = True)"
   ]
  },
  {
   "cell_type": "code",
   "execution_count": 15,
   "id": "285f2fbb",
   "metadata": {},
   "outputs": [
    {
     "name": "stdout",
     "output_type": "stream",
     "text": [
      "Shape of Train set (raw) : (891, 13)\n",
      "Shape of Test set (raw) : (418, 12)\n"
     ]
    }
   ],
   "source": [
    "# Shape of Data\n",
    "print(f\"Shape of Train set (raw) : {train.shape}\")\n",
    "print(f\"Shape of Test set (raw) : {test.shape}\")"
   ]
  },
  {
   "cell_type": "markdown",
   "id": "1a873e0a",
   "metadata": {},
   "source": [
    "## Ticket and Cabin"
   ]
  },
  {
   "cell_type": "code",
   "execution_count": 16,
   "id": "aedbc2c7",
   "metadata": {},
   "outputs": [],
   "source": [
    "# Drop both\n",
    "train.drop(columns = ['Ticket', 'Cabin'], axis = 'columns', inplace = True)\n",
    "test.drop(columns = ['Ticket', 'Cabin'], axis = 'columns', inplace = True)"
   ]
  },
  {
   "cell_type": "code",
   "execution_count": 17,
   "id": "224706ae",
   "metadata": {},
   "outputs": [
    {
     "name": "stdout",
     "output_type": "stream",
     "text": [
      "Shape of Train set (raw) : (891, 11)\n",
      "Shape of Test set (raw) : (418, 10)\n"
     ]
    }
   ],
   "source": [
    "# Shape of Data\n",
    "print(f\"Shape of Train set (raw) : {train.shape}\")\n",
    "print(f\"Shape of Test set (raw) : {test.shape}\")"
   ]
  },
  {
   "cell_type": "markdown",
   "id": "eed6317a",
   "metadata": {},
   "source": [
    "## Embarked"
   ]
  },
  {
   "cell_type": "code",
   "execution_count": 18,
   "id": "0cf5f1e1",
   "metadata": {},
   "outputs": [],
   "source": [
    "# Impute with mode for train only\n",
    "train['Embarked'].fillna(train['Embarked'].mode()[0], inplace = True)"
   ]
  },
  {
   "cell_type": "code",
   "execution_count": 19,
   "id": "e730f22a",
   "metadata": {},
   "outputs": [],
   "source": [
    "# Convert to ordinal for train and test\n",
    "port_dict = {'Q': 1, 'C': 2, 'S': 3}\n",
    "\n",
    "train['Embarked'] = train['Embarked'].map(port_dict)\n",
    "test['Embarked'] = test['Embarked'].map(port_dict)"
   ]
  },
  {
   "cell_type": "code",
   "execution_count": 20,
   "id": "24c0050c",
   "metadata": {},
   "outputs": [],
   "source": [
    "# Convert to int\n",
    "train['Embarked'] = train['Embarked'].astype(int)\n",
    "test['Embarked'] = test['Embarked'].astype(int)"
   ]
  },
  {
   "cell_type": "code",
   "execution_count": 21,
   "id": "98307bf9",
   "metadata": {},
   "outputs": [
    {
     "name": "stdout",
     "output_type": "stream",
     "text": [
      "Shape of Train set (raw) : (891, 11)\n",
      "Shape of Test set (raw) : (418, 10)\n"
     ]
    }
   ],
   "source": [
    "# Shape of Data\n",
    "print(f\"Shape of Train set (raw) : {train.shape}\")\n",
    "print(f\"Shape of Test set (raw) : {test.shape}\")"
   ]
  },
  {
   "cell_type": "markdown",
   "id": "0187b335",
   "metadata": {},
   "source": [
    "## Fare"
   ]
  },
  {
   "cell_type": "code",
   "execution_count": 22,
   "id": "96be247c",
   "metadata": {},
   "outputs": [],
   "source": [
    "# Impute fare with median first\n",
    "test['Fare'].fillna(test['Fare'].median(), inplace = True)"
   ]
  },
  {
   "cell_type": "code",
   "execution_count": 23,
   "id": "9935914f",
   "metadata": {},
   "outputs": [],
   "source": [
    "# Apply log transformation\n",
    "train['log_fare'] = np.log1p(train['Fare'])\n",
    "test['log_fare'] = np.log1p(test['Fare'])\n",
    "\n",
    "# Drop Fare\n",
    "train.drop('Fare', axis = 'columns', inplace = True)\n",
    "test.drop('Fare', axis = 'columns', inplace = True)"
   ]
  },
  {
   "cell_type": "code",
   "execution_count": 24,
   "id": "007bec26",
   "metadata": {},
   "outputs": [],
   "source": [
    "# Change the range\n",
    "train['log_fare_range'] = pd.cut(train['log_fare'], 4)\n",
    "train[['log_fare_range', 'Survived']].groupby(['log_fare_range'], \n",
    "                                              as_index=False).mean().sort_values(by='log_fare_range', \n",
    "                                                                                 ascending=True)\n",
    "\n",
    "# Change range for test\n",
    "test['log_fare_range'] = pd.cut(test['log_fare'], 4)"
   ]
  },
  {
   "cell_type": "code",
   "execution_count": 25,
   "id": "e6f74716",
   "metadata": {},
   "outputs": [],
   "source": [
    "# convert log_fare to numerical\n",
    "# Convert log_fare to log_fare range for train\n",
    "train.loc[(train['log_fare'] <= 1.56), 'log_fare'] = 0\n",
    "train.loc[(train['log_fare'] <= 3.12)  & (train['log_fare'] > 1.56), 'log_fare'] = 1\n",
    "train.loc[(train['log_fare'] <= 4.681)  & (train['log_fare'] > 3.12), 'log_fare'] = 2\n",
    "train.loc[(train['log_fare'] > 4.681), 'log_fare'] = 3\n",
    "\n",
    "train['log_fare'] = train['log_fare'].astype(int)"
   ]
  },
  {
   "cell_type": "code",
   "execution_count": 26,
   "id": "6152de95",
   "metadata": {},
   "outputs": [],
   "source": [
    "# convert log_fare to numerical for test\n",
    "test.loc[(test['log_fare'] <= 1.56), 'log_fare'] = 0\n",
    "test.loc[(test['log_fare'] <= 3.12)  & (test['log_fare'] > 1.56), 'log_fare'] = 1\n",
    "test.loc[(test['log_fare'] <= 4.681)  & (test['log_fare'] > 3.12), 'log_fare'] = 2\n",
    "test.loc[(test['log_fare'] > 4.681), 'log_fare'] = 3\n",
    "\n",
    "test['log_fare'] = test['log_fare'].astype(int)"
   ]
  },
  {
   "cell_type": "code",
   "execution_count": 27,
   "id": "9905ce19",
   "metadata": {},
   "outputs": [],
   "source": [
    "# drop log_fare_range in train and test\n",
    "train.drop('log_fare_range', axis = 'columns', inplace = True)\n",
    "test.drop('log_fare_range', axis = 'columns', inplace = True)"
   ]
  },
  {
   "cell_type": "code",
   "execution_count": 28,
   "id": "fcb9ee43",
   "metadata": {},
   "outputs": [
    {
     "name": "stdout",
     "output_type": "stream",
     "text": [
      "Shape of Train set (raw) : (891, 11)\n",
      "Shape of Test set (raw) : (418, 10)\n"
     ]
    }
   ],
   "source": [
    "# Shape of Data\n",
    "print(f\"Shape of Train set (raw) : {train.shape}\")\n",
    "print(f\"Shape of Test set (raw) : {test.shape}\")"
   ]
  },
  {
   "cell_type": "markdown",
   "id": "f9adf534",
   "metadata": {},
   "source": [
    "## Name"
   ]
  },
  {
   "cell_type": "code",
   "execution_count": 29,
   "id": "82be72d4",
   "metadata": {},
   "outputs": [],
   "source": [
    "# Extract titles from training data and test data\n",
    "train['Title'] = train['Name'].str.extract(' ([A-Za-z]+)\\.', expand=False)\n",
    "test['Title'] = test['Name'].str.extract(' ([A-Za-z]+)\\.', expand=False)\n",
    "\n",
    "# Uncomment to check the unique titles given\n",
    "# print(train['Title'].value_counts())\n",
    "# print(test['Title'].value_counts())"
   ]
  },
  {
   "cell_type": "code",
   "execution_count": 30,
   "id": "ea303e71",
   "metadata": {},
   "outputs": [],
   "source": [
    "# Set the dictionary\n",
    "TitleDict = {\"Capt\": \"Officer\", \"Col\": \"Officer\", \"Major\": \"Officer\", \"Jonkheer\": \"Royalty\", \\\n",
    "             \"Don\": \"Royalty\", \"Sir\" : \"Royalty\",\"Dr\": \"Royalty\",\"Rev\": \"Royalty\", \\\n",
    "             \"Countess\":\"Royalty\", \"Mme\": \"Mrs\", \"Mlle\": \"Miss\", \"Ms\": \"Mrs\",\"Mr\" : \"Mr\", \\\n",
    "             \"Mrs\" : \"Mrs\",\"Miss\" : \"Miss\",\"Master\" : \"Master\",\"Lady\" : \"Royalty\", \"Dona\": \"Royalty\"}\n",
    "\n",
    "# Map the dict\n",
    "train['Title'], test['Title'] = [df.Title.map(TitleDict) for df in [train, test]]"
   ]
  },
  {
   "cell_type": "code",
   "execution_count": 31,
   "id": "4fc9a56e",
   "metadata": {},
   "outputs": [
    {
     "name": "stdout",
     "output_type": "stream",
     "text": [
      "Mr         517\n",
      "Miss       184\n",
      "Mrs        127\n",
      "Master      40\n",
      "Royalty     18\n",
      "Officer      5\n",
      "Name: Title, dtype: int64\n",
      "Mr         240\n",
      "Miss        78\n",
      "Mrs         73\n",
      "Master      21\n",
      "Royalty      4\n",
      "Officer      2\n",
      "Name: Title, dtype: int64\n"
     ]
    }
   ],
   "source": [
    "# # Replacing titles\n",
    "# train['Title'] = train['Title'].replace(['Countess', 'Capt', 'Rev', 'Col', 'Don', 'Dr', 'Jonkheer', 'Lady', \n",
    "#                                          'Major', 'Dona'], 'others')\n",
    "# train['Title'] = train['Title'].replace('Ms', 'Miss')\n",
    "# train['Title'] = train['Title'].replace('Mlle', 'Miss')\n",
    "# train['Title'] = train['Title'].replace('Mme', 'Mrs')\n",
    "# train['Title'] = train['Title'].replace('Sir', 'Mr')\n",
    "\n",
    "\n",
    "# test['Title'] = test['Title'].replace(['Countess', 'Capt', 'Rev', 'Col', 'Don', 'Dr', 'Jonkheer', 'Lady', \n",
    "#                                        'Major', 'Dona'], 'others')\n",
    "# test['Title'] = test['Title'].replace('Ms', 'Miss')\n",
    "# test['Title'] = test['Title'].replace('Mlle', 'Miss')\n",
    "# test['Title'] = test['Title'].replace('Mme', 'Mrs')\n",
    "# test['Title'] = test['Title'].replace('Sir', 'Mr')\n",
    "\n",
    "# Check the unique titles given\n",
    "print(train['Title'].value_counts())\n",
    "print(test['Title'].value_counts())"
   ]
  },
  {
   "cell_type": "markdown",
   "id": "9cf24eb5",
   "metadata": {},
   "source": [
    "#### Information about titles\n",
    "- `Don` : noble men\n",
    "- `Lady`, `Countess` : noble women\n",
    "- `Jonkheer` : young man or woman of nobility"
   ]
  },
  {
   "cell_type": "code",
   "execution_count": 32,
   "id": "46bf368a",
   "metadata": {},
   "outputs": [],
   "source": [
    "# # Create mapping\n",
    "# title_dict = {'Mr': 1, 'Miss': 2, 'Mrs': 3, 'Master' : 4, 'others': 5}\n",
    "\n",
    "# # Map\n",
    "# train['Title'] = train['Title'].map(title_dict).astype(int)\n",
    "# test['Title'] = test['Title'].map(title_dict).astype(int)"
   ]
  },
  {
   "cell_type": "code",
   "execution_count": 33,
   "id": "143df5b0",
   "metadata": {},
   "outputs": [],
   "source": [
    "# Drop name in test and train\n",
    "train.drop('Name', axis = 'columns', inplace = True)\n",
    "test.drop('Name', axis = 'columns', inplace = True)"
   ]
  },
  {
   "cell_type": "code",
   "execution_count": 34,
   "id": "4c638112",
   "metadata": {},
   "outputs": [
    {
     "name": "stdout",
     "output_type": "stream",
     "text": [
      "Shape of Train set (raw) : (891, 11)\n",
      "Shape of Test set (raw) : (418, 10)\n"
     ]
    }
   ],
   "source": [
    "# Shape of Data\n",
    "print(f\"Shape of Train set (raw) : {train.shape}\")\n",
    "print(f\"Shape of Test set (raw) : {test.shape}\")"
   ]
  },
  {
   "cell_type": "markdown",
   "id": "ec84e895",
   "metadata": {},
   "source": [
    "## Age"
   ]
  },
  {
   "cell_type": "code",
   "execution_count": 35,
   "id": "89ad773c",
   "metadata": {},
   "outputs": [
    {
     "data": {
      "text/html": [
       "<div>\n",
       "<style scoped>\n",
       "    .dataframe tbody tr th:only-of-type {\n",
       "        vertical-align: middle;\n",
       "    }\n",
       "\n",
       "    .dataframe tbody tr th {\n",
       "        vertical-align: top;\n",
       "    }\n",
       "\n",
       "    .dataframe thead th {\n",
       "        text-align: right;\n",
       "    }\n",
       "</style>\n",
       "<table border=\"1\" class=\"dataframe\">\n",
       "  <thead>\n",
       "    <tr style=\"text-align: right;\">\n",
       "      <th></th>\n",
       "      <th>Pclass</th>\n",
       "      <th>Sex</th>\n",
       "      <th>Age</th>\n",
       "      <th>SibSp</th>\n",
       "      <th>Parch</th>\n",
       "      <th>Embarked</th>\n",
       "      <th>familysize</th>\n",
       "      <th>isAlone</th>\n",
       "      <th>log_fare</th>\n",
       "      <th>Title</th>\n",
       "    </tr>\n",
       "  </thead>\n",
       "  <tbody>\n",
       "    <tr>\n",
       "      <th>0</th>\n",
       "      <td>3</td>\n",
       "      <td>0</td>\n",
       "      <td>34.5</td>\n",
       "      <td>0</td>\n",
       "      <td>0</td>\n",
       "      <td>1</td>\n",
       "      <td>0</td>\n",
       "      <td>0</td>\n",
       "      <td>1</td>\n",
       "      <td>Mr</td>\n",
       "    </tr>\n",
       "    <tr>\n",
       "      <th>1</th>\n",
       "      <td>3</td>\n",
       "      <td>1</td>\n",
       "      <td>47.0</td>\n",
       "      <td>1</td>\n",
       "      <td>0</td>\n",
       "      <td>3</td>\n",
       "      <td>1</td>\n",
       "      <td>0</td>\n",
       "      <td>1</td>\n",
       "      <td>Mrs</td>\n",
       "    </tr>\n",
       "    <tr>\n",
       "      <th>2</th>\n",
       "      <td>2</td>\n",
       "      <td>0</td>\n",
       "      <td>62.0</td>\n",
       "      <td>0</td>\n",
       "      <td>0</td>\n",
       "      <td>1</td>\n",
       "      <td>0</td>\n",
       "      <td>0</td>\n",
       "      <td>1</td>\n",
       "      <td>Mr</td>\n",
       "    </tr>\n",
       "    <tr>\n",
       "      <th>3</th>\n",
       "      <td>3</td>\n",
       "      <td>0</td>\n",
       "      <td>27.0</td>\n",
       "      <td>0</td>\n",
       "      <td>0</td>\n",
       "      <td>3</td>\n",
       "      <td>0</td>\n",
       "      <td>0</td>\n",
       "      <td>1</td>\n",
       "      <td>Mr</td>\n",
       "    </tr>\n",
       "    <tr>\n",
       "      <th>4</th>\n",
       "      <td>3</td>\n",
       "      <td>1</td>\n",
       "      <td>22.0</td>\n",
       "      <td>1</td>\n",
       "      <td>1</td>\n",
       "      <td>3</td>\n",
       "      <td>2</td>\n",
       "      <td>0</td>\n",
       "      <td>1</td>\n",
       "      <td>Mrs</td>\n",
       "    </tr>\n",
       "  </tbody>\n",
       "</table>\n",
       "</div>"
      ],
      "text/plain": [
       "   Pclass  Sex   Age  SibSp  Parch  Embarked  familysize  isAlone  log_fare  \\\n",
       "0       3    0  34.5      0      0         1           0        0         1   \n",
       "1       3    1  47.0      1      0         3           1        0         1   \n",
       "2       2    0  62.0      0      0         1           0        0         1   \n",
       "3       3    0  27.0      0      0         3           0        0         1   \n",
       "4       3    1  22.0      1      1         3           2        0         1   \n",
       "\n",
       "  Title  \n",
       "0    Mr  \n",
       "1   Mrs  \n",
       "2    Mr  \n",
       "3    Mr  \n",
       "4   Mrs  "
      ]
     },
     "execution_count": 35,
     "metadata": {},
     "output_type": "execute_result"
    }
   ],
   "source": [
    "test.head()"
   ]
  },
  {
   "cell_type": "code",
   "execution_count": 36,
   "id": "1917594a",
   "metadata": {
    "scrolled": true
   },
   "outputs": [
    {
     "data": {
      "text/html": [
       "<div>\n",
       "<style scoped>\n",
       "    .dataframe tbody tr th:only-of-type {\n",
       "        vertical-align: middle;\n",
       "    }\n",
       "\n",
       "    .dataframe tbody tr th {\n",
       "        vertical-align: top;\n",
       "    }\n",
       "\n",
       "    .dataframe thead th {\n",
       "        text-align: right;\n",
       "    }\n",
       "</style>\n",
       "<table border=\"1\" class=\"dataframe\">\n",
       "  <thead>\n",
       "    <tr style=\"text-align: right;\">\n",
       "      <th></th>\n",
       "      <th></th>\n",
       "      <th>mean</th>\n",
       "      <th>count</th>\n",
       "    </tr>\n",
       "    <tr>\n",
       "      <th>Title</th>\n",
       "      <th>Pclass</th>\n",
       "      <th></th>\n",
       "      <th></th>\n",
       "    </tr>\n",
       "  </thead>\n",
       "  <tbody>\n",
       "    <tr>\n",
       "      <th rowspan=\"3\" valign=\"top\">Master</th>\n",
       "      <th>1</th>\n",
       "      <td>5.306667</td>\n",
       "      <td>3</td>\n",
       "    </tr>\n",
       "    <tr>\n",
       "      <th>2</th>\n",
       "      <td>2.258889</td>\n",
       "      <td>9</td>\n",
       "    </tr>\n",
       "    <tr>\n",
       "      <th>3</th>\n",
       "      <td>5.350833</td>\n",
       "      <td>24</td>\n",
       "    </tr>\n",
       "    <tr>\n",
       "      <th rowspan=\"3\" valign=\"top\">Miss</th>\n",
       "      <th>1</th>\n",
       "      <td>29.744681</td>\n",
       "      <td>47</td>\n",
       "    </tr>\n",
       "    <tr>\n",
       "      <th>2</th>\n",
       "      <td>22.390625</td>\n",
       "      <td>32</td>\n",
       "    </tr>\n",
       "    <tr>\n",
       "      <th>3</th>\n",
       "      <td>16.123188</td>\n",
       "      <td>69</td>\n",
       "    </tr>\n",
       "    <tr>\n",
       "      <th rowspan=\"3\" valign=\"top\">Mr</th>\n",
       "      <th>1</th>\n",
       "      <td>41.580460</td>\n",
       "      <td>87</td>\n",
       "    </tr>\n",
       "    <tr>\n",
       "      <th>2</th>\n",
       "      <td>32.768293</td>\n",
       "      <td>82</td>\n",
       "    </tr>\n",
       "    <tr>\n",
       "      <th>3</th>\n",
       "      <td>28.724891</td>\n",
       "      <td>229</td>\n",
       "    </tr>\n",
       "    <tr>\n",
       "      <th rowspan=\"3\" valign=\"top\">Mrs</th>\n",
       "      <th>1</th>\n",
       "      <td>40.400000</td>\n",
       "      <td>35</td>\n",
       "    </tr>\n",
       "    <tr>\n",
       "      <th>2</th>\n",
       "      <td>33.547619</td>\n",
       "      <td>42</td>\n",
       "    </tr>\n",
       "    <tr>\n",
       "      <th>3</th>\n",
       "      <td>33.515152</td>\n",
       "      <td>33</td>\n",
       "    </tr>\n",
       "    <tr>\n",
       "      <th>Officer</th>\n",
       "      <th>1</th>\n",
       "      <td>56.600000</td>\n",
       "      <td>5</td>\n",
       "    </tr>\n",
       "    <tr>\n",
       "      <th rowspan=\"2\" valign=\"top\">Royalty</th>\n",
       "      <th>1</th>\n",
       "      <td>42.555556</td>\n",
       "      <td>9</td>\n",
       "    </tr>\n",
       "    <tr>\n",
       "      <th>2</th>\n",
       "      <td>42.000000</td>\n",
       "      <td>8</td>\n",
       "    </tr>\n",
       "  </tbody>\n",
       "</table>\n",
       "</div>"
      ],
      "text/plain": [
       "                     mean  count\n",
       "Title   Pclass                  \n",
       "Master  1        5.306667      3\n",
       "        2        2.258889      9\n",
       "        3        5.350833     24\n",
       "Miss    1       29.744681     47\n",
       "        2       22.390625     32\n",
       "        3       16.123188     69\n",
       "Mr      1       41.580460     87\n",
       "        2       32.768293     82\n",
       "        3       28.724891    229\n",
       "Mrs     1       40.400000     35\n",
       "        2       33.547619     42\n",
       "        3       33.515152     33\n",
       "Officer 1       56.600000      5\n",
       "Royalty 1       42.555556      9\n",
       "        2       42.000000      8"
      ]
     },
     "execution_count": 36,
     "metadata": {},
     "output_type": "execute_result"
    }
   ],
   "source": [
    "# See the average age\n",
    "train.groupby(['Title', 'Pclass'])['Age'].agg(['mean', 'count'])"
   ]
  },
  {
   "cell_type": "code",
   "execution_count": 37,
   "id": "3457c865",
   "metadata": {},
   "outputs": [],
   "source": [
    "# categorize a new title = 'FemaleChild' because the variation of Miss varies too greatly, so depends on parch\n",
    "train.loc[(train.Title=='Miss') & (train.Parch!=0) & (train.familysize>1), 'Title']=\"FemaleChild\"\n",
    "test.loc[(test.Title=='Miss') & (test.Parch!=0) & (test.familysize>1), 'Title']=\"FemaleChild\""
   ]
  },
  {
   "cell_type": "code",
   "execution_count": 38,
   "id": "c29e2880",
   "metadata": {},
   "outputs": [],
   "source": [
    "# Create lookup table\n",
    "grp = train.groupby(['Pclass','Sex','Title'])['Age'].mean().reset_index()[['Sex', 'Pclass', 'Title', 'Age']]"
   ]
  },
  {
   "cell_type": "code",
   "execution_count": 39,
   "id": "468c05f7",
   "metadata": {},
   "outputs": [
    {
     "data": {
      "text/html": [
       "<div>\n",
       "<style scoped>\n",
       "    .dataframe tbody tr th:only-of-type {\n",
       "        vertical-align: middle;\n",
       "    }\n",
       "\n",
       "    .dataframe tbody tr th {\n",
       "        vertical-align: top;\n",
       "    }\n",
       "\n",
       "    .dataframe thead th {\n",
       "        text-align: right;\n",
       "    }\n",
       "</style>\n",
       "<table border=\"1\" class=\"dataframe\">\n",
       "  <thead>\n",
       "    <tr style=\"text-align: right;\">\n",
       "      <th></th>\n",
       "      <th>Sex</th>\n",
       "      <th>Pclass</th>\n",
       "      <th>Title</th>\n",
       "      <th>Age</th>\n",
       "    </tr>\n",
       "  </thead>\n",
       "  <tbody>\n",
       "    <tr>\n",
       "      <th>0</th>\n",
       "      <td>0</td>\n",
       "      <td>1</td>\n",
       "      <td>Master</td>\n",
       "      <td>5.306667</td>\n",
       "    </tr>\n",
       "    <tr>\n",
       "      <th>1</th>\n",
       "      <td>0</td>\n",
       "      <td>1</td>\n",
       "      <td>Mr</td>\n",
       "      <td>41.580460</td>\n",
       "    </tr>\n",
       "    <tr>\n",
       "      <th>2</th>\n",
       "      <td>0</td>\n",
       "      <td>1</td>\n",
       "      <td>Officer</td>\n",
       "      <td>56.600000</td>\n",
       "    </tr>\n",
       "    <tr>\n",
       "      <th>3</th>\n",
       "      <td>0</td>\n",
       "      <td>1</td>\n",
       "      <td>Royalty</td>\n",
       "      <td>42.166667</td>\n",
       "    </tr>\n",
       "    <tr>\n",
       "      <th>4</th>\n",
       "      <td>1</td>\n",
       "      <td>1</td>\n",
       "      <td>FemaleChild</td>\n",
       "      <td>22.250000</td>\n",
       "    </tr>\n",
       "  </tbody>\n",
       "</table>\n",
       "</div>"
      ],
      "text/plain": [
       "   Sex  Pclass        Title        Age\n",
       "0    0       1       Master   5.306667\n",
       "1    0       1           Mr  41.580460\n",
       "2    0       1      Officer  56.600000\n",
       "3    0       1      Royalty  42.166667\n",
       "4    1       1  FemaleChild  22.250000"
      ]
     },
     "execution_count": 39,
     "metadata": {},
     "output_type": "execute_result"
    }
   ],
   "source": [
    "grp.head()"
   ]
  },
  {
   "cell_type": "code",
   "execution_count": 40,
   "id": "69e9134b",
   "metadata": {},
   "outputs": [],
   "source": [
    "# x -> row that has the missing age value\n",
    "def fill_age(x):\n",
    "    return grp[(grp.Pclass==x.Pclass)&(grp.Sex==x.Sex)&(grp.Title==x.Title)]['Age'].values[0]"
   ]
  },
  {
   "cell_type": "code",
   "execution_count": 41,
   "id": "ec80418e",
   "metadata": {},
   "outputs": [],
   "source": [
    "# Apply for train and test sets\n",
    "train['Age'], test['Age'] = [df.apply(lambda x: fill_age(x) if np.isnan(x['Age']) else x['Age'], axis=1) \\\n",
    "                             for df in [train, test]]"
   ]
  },
  {
   "cell_type": "markdown",
   "id": "3cbf6093",
   "metadata": {},
   "source": [
    "#### Note\n",
    "\n",
    "**Imputed values of age are based on the means of the training data ONLY. This is done to prevent data leakage into the test set.**"
   ]
  },
  {
   "cell_type": "code",
   "execution_count": 42,
   "id": "e8ccc33e",
   "metadata": {},
   "outputs": [
    {
     "name": "stdout",
     "output_type": "stream",
     "text": [
      "Shape of Train set (raw) : (891, 11)\n",
      "Shape of Test set (raw) : (418, 10)\n"
     ]
    }
   ],
   "source": [
    "# Shape of Data\n",
    "print(f\"Shape of Train set (raw) : {train.shape}\")\n",
    "print(f\"Shape of Test set (raw) : {test.shape}\")"
   ]
  },
  {
   "cell_type": "code",
   "execution_count": 43,
   "id": "0a19c1ea",
   "metadata": {},
   "outputs": [
    {
     "data": {
      "text/html": [
       "<div>\n",
       "<style scoped>\n",
       "    .dataframe tbody tr th:only-of-type {\n",
       "        vertical-align: middle;\n",
       "    }\n",
       "\n",
       "    .dataframe tbody tr th {\n",
       "        vertical-align: top;\n",
       "    }\n",
       "\n",
       "    .dataframe thead th {\n",
       "        text-align: right;\n",
       "    }\n",
       "</style>\n",
       "<table border=\"1\" class=\"dataframe\">\n",
       "  <thead>\n",
       "    <tr style=\"text-align: right;\">\n",
       "      <th></th>\n",
       "      <th>AgeRange</th>\n",
       "      <th>Survived</th>\n",
       "    </tr>\n",
       "  </thead>\n",
       "  <tbody>\n",
       "    <tr>\n",
       "      <th>0</th>\n",
       "      <td>(0.34, 16.336]</td>\n",
       "      <td>0.513274</td>\n",
       "    </tr>\n",
       "    <tr>\n",
       "      <th>1</th>\n",
       "      <td>(16.336, 32.252]</td>\n",
       "      <td>0.335498</td>\n",
       "    </tr>\n",
       "    <tr>\n",
       "      <th>2</th>\n",
       "      <td>(32.252, 48.168]</td>\n",
       "      <td>0.415254</td>\n",
       "    </tr>\n",
       "    <tr>\n",
       "      <th>3</th>\n",
       "      <td>(48.168, 64.084]</td>\n",
       "      <td>0.434783</td>\n",
       "    </tr>\n",
       "    <tr>\n",
       "      <th>4</th>\n",
       "      <td>(64.084, 80.0]</td>\n",
       "      <td>0.090909</td>\n",
       "    </tr>\n",
       "  </tbody>\n",
       "</table>\n",
       "</div>"
      ],
      "text/plain": [
       "           AgeRange  Survived\n",
       "0    (0.34, 16.336]  0.513274\n",
       "1  (16.336, 32.252]  0.335498\n",
       "2  (32.252, 48.168]  0.415254\n",
       "3  (48.168, 64.084]  0.434783\n",
       "4    (64.084, 80.0]  0.090909"
      ]
     },
     "execution_count": 43,
     "metadata": {},
     "output_type": "execute_result"
    }
   ],
   "source": [
    "# Group Age into ranges\n",
    "train['AgeRange'] = pd.cut(train['Age'], 5)\n",
    "train[['AgeRange', 'Survived']].groupby(['AgeRange'], as_index=False).mean().sort_values(by='AgeRange', \n",
    "                                                                                         ascending=True)"
   ]
  },
  {
   "cell_type": "code",
   "execution_count": 44,
   "id": "7a5f3b48",
   "metadata": {},
   "outputs": [],
   "source": [
    "# Convert Age to age range for train\n",
    "train.loc[(train['Age'] <= 16), 'Age'] = 0\n",
    "train.loc[(train['Age'] <= 32)  & (train['Age'] > 16), 'Age'] = 1\n",
    "train.loc[(train['Age'] <= 48)  & (train['Age'] > 32), 'Age'] = 2\n",
    "train.loc[(train['Age'] <= 64)  & (train['Age'] > 48), 'Age'] = 3\n",
    "train.loc[(train['Age'] > 64), 'Age'] = 4\n",
    "\n",
    "train['Age'] = train['Age'].astype(int)"
   ]
  },
  {
   "cell_type": "code",
   "execution_count": 45,
   "id": "13894f1a",
   "metadata": {},
   "outputs": [],
   "source": [
    "# Convert Age to age range for test\n",
    "test.loc[(test['Age'] <= 16), 'Age'] = 0\n",
    "test.loc[(test['Age'] <= 32)  & (test['Age'] > 16), 'Age'] = 1\n",
    "test.loc[(test['Age'] <= 48)  & (test['Age'] > 32), 'Age'] = 2\n",
    "test.loc[(test['Age'] <= 64)  & (test['Age'] > 48), 'Age'] = 3\n",
    "test.loc[(test['Age'] > 64), 'Age'] = 4\n",
    "\n",
    "test['Age'] = test['Age'].astype(int)"
   ]
  },
  {
   "cell_type": "code",
   "execution_count": 46,
   "id": "06b92240",
   "metadata": {},
   "outputs": [],
   "source": [
    "# Drop 'AgeRange'\n",
    "train.drop('AgeRange', axis = 'columns', inplace = True)"
   ]
  },
  {
   "cell_type": "code",
   "execution_count": 47,
   "id": "7dcfd734",
   "metadata": {},
   "outputs": [
    {
     "name": "stdout",
     "output_type": "stream",
     "text": [
      "Shape of Train set (raw) : (891, 11)\n",
      "Shape of Test set (raw) : (418, 10)\n"
     ]
    }
   ],
   "source": [
    "# Shape of Data\n",
    "print(f\"Shape of Train set (raw) : {train.shape}\")\n",
    "print(f\"Shape of Test set (raw) : {test.shape}\")"
   ]
  },
  {
   "cell_type": "markdown",
   "id": "68c2eed4",
   "metadata": {},
   "source": [
    "# Further Feature Engineering"
   ]
  },
  {
   "cell_type": "markdown",
   "id": "538ffe24",
   "metadata": {},
   "source": [
    "# Split Data"
   ]
  },
  {
   "cell_type": "code",
   "execution_count": 48,
   "id": "6b8a30b2",
   "metadata": {},
   "outputs": [
    {
     "data": {
      "text/plain": [
       "Mr             517\n",
       "Miss           131\n",
       "Mrs            127\n",
       "FemaleChild     53\n",
       "Master          40\n",
       "Royalty         18\n",
       "Officer          5\n",
       "Name: Title, dtype: int64"
      ]
     },
     "execution_count": 48,
     "metadata": {},
     "output_type": "execute_result"
    }
   ],
   "source": [
    "train.Title.value_counts()"
   ]
  },
  {
   "cell_type": "code",
   "execution_count": 49,
   "id": "73eb3de6",
   "metadata": {},
   "outputs": [],
   "source": [
    "# Convert title to numerical\n",
    "title_dict = {'Mr': 1, 'Miss': 2, 'Mrs': 3, 'Master' : 4, 'Royalty': 5, 'FemaleChild': 6, 'Officer':7}\n",
    "\n",
    "# Map\n",
    "train['Title'] = train['Title'].map(title_dict).astype(int)\n",
    "test['Title'] = test['Title'].map(title_dict).astype(int)"
   ]
  },
  {
   "cell_type": "code",
   "execution_count": 50,
   "id": "372e1ece",
   "metadata": {},
   "outputs": [
    {
     "data": {
      "text/html": [
       "<div>\n",
       "<style scoped>\n",
       "    .dataframe tbody tr th:only-of-type {\n",
       "        vertical-align: middle;\n",
       "    }\n",
       "\n",
       "    .dataframe tbody tr th {\n",
       "        vertical-align: top;\n",
       "    }\n",
       "\n",
       "    .dataframe thead th {\n",
       "        text-align: right;\n",
       "    }\n",
       "</style>\n",
       "<table border=\"1\" class=\"dataframe\">\n",
       "  <thead>\n",
       "    <tr style=\"text-align: right;\">\n",
       "      <th></th>\n",
       "      <th>Survived</th>\n",
       "      <th>Pclass</th>\n",
       "      <th>Sex</th>\n",
       "      <th>Age</th>\n",
       "      <th>SibSp</th>\n",
       "      <th>Parch</th>\n",
       "      <th>Embarked</th>\n",
       "      <th>familysize</th>\n",
       "      <th>isAlone</th>\n",
       "      <th>log_fare</th>\n",
       "      <th>Title</th>\n",
       "    </tr>\n",
       "  </thead>\n",
       "  <tbody>\n",
       "    <tr>\n",
       "      <th>0</th>\n",
       "      <td>0</td>\n",
       "      <td>3</td>\n",
       "      <td>0</td>\n",
       "      <td>1</td>\n",
       "      <td>1</td>\n",
       "      <td>0</td>\n",
       "      <td>3</td>\n",
       "      <td>1</td>\n",
       "      <td>0</td>\n",
       "      <td>1</td>\n",
       "      <td>1</td>\n",
       "    </tr>\n",
       "    <tr>\n",
       "      <th>1</th>\n",
       "      <td>1</td>\n",
       "      <td>1</td>\n",
       "      <td>1</td>\n",
       "      <td>2</td>\n",
       "      <td>1</td>\n",
       "      <td>0</td>\n",
       "      <td>2</td>\n",
       "      <td>1</td>\n",
       "      <td>0</td>\n",
       "      <td>2</td>\n",
       "      <td>3</td>\n",
       "    </tr>\n",
       "    <tr>\n",
       "      <th>2</th>\n",
       "      <td>1</td>\n",
       "      <td>3</td>\n",
       "      <td>1</td>\n",
       "      <td>1</td>\n",
       "      <td>0</td>\n",
       "      <td>0</td>\n",
       "      <td>3</td>\n",
       "      <td>0</td>\n",
       "      <td>0</td>\n",
       "      <td>1</td>\n",
       "      <td>2</td>\n",
       "    </tr>\n",
       "    <tr>\n",
       "      <th>3</th>\n",
       "      <td>1</td>\n",
       "      <td>1</td>\n",
       "      <td>1</td>\n",
       "      <td>2</td>\n",
       "      <td>1</td>\n",
       "      <td>0</td>\n",
       "      <td>3</td>\n",
       "      <td>1</td>\n",
       "      <td>0</td>\n",
       "      <td>2</td>\n",
       "      <td>3</td>\n",
       "    </tr>\n",
       "    <tr>\n",
       "      <th>4</th>\n",
       "      <td>0</td>\n",
       "      <td>3</td>\n",
       "      <td>0</td>\n",
       "      <td>2</td>\n",
       "      <td>0</td>\n",
       "      <td>0</td>\n",
       "      <td>3</td>\n",
       "      <td>0</td>\n",
       "      <td>0</td>\n",
       "      <td>1</td>\n",
       "      <td>1</td>\n",
       "    </tr>\n",
       "  </tbody>\n",
       "</table>\n",
       "</div>"
      ],
      "text/plain": [
       "   Survived  Pclass  Sex  Age  SibSp  Parch  Embarked  familysize  isAlone  \\\n",
       "0         0       3    0    1      1      0         3           1        0   \n",
       "1         1       1    1    2      1      0         2           1        0   \n",
       "2         1       3    1    1      0      0         3           0        0   \n",
       "3         1       1    1    2      1      0         3           1        0   \n",
       "4         0       3    0    2      0      0         3           0        0   \n",
       "\n",
       "   log_fare  Title  \n",
       "0         1      1  \n",
       "1         2      3  \n",
       "2         1      2  \n",
       "3         2      3  \n",
       "4         1      1  "
      ]
     },
     "execution_count": 50,
     "metadata": {},
     "output_type": "execute_result"
    }
   ],
   "source": [
    "train.head()"
   ]
  },
  {
   "cell_type": "code",
   "execution_count": 51,
   "id": "f74e9c48",
   "metadata": {},
   "outputs": [],
   "source": [
    "# Drop all relevant columns\n",
    "train.drop(columns = ['SibSp', 'Parch', 'familysize'], axis = 'columns', inplace = True)\n",
    "test.drop(columns = ['SibSp', 'Parch', 'familysize'], axis = 'columns', inplace = True)"
   ]
  },
  {
   "cell_type": "code",
   "execution_count": 52,
   "id": "996fd7c8",
   "metadata": {},
   "outputs": [
    {
     "name": "stdout",
     "output_type": "stream",
     "text": [
      "Shape of Train set (raw) : (891, 8)\n",
      "Shape of Test set (raw) : (418, 7)\n"
     ]
    }
   ],
   "source": [
    "# Shape of Data\n",
    "print(f\"Shape of Train set (raw) : {train.shape}\")\n",
    "print(f\"Shape of Test set (raw) : {test.shape}\")"
   ]
  },
  {
   "cell_type": "code",
   "execution_count": 53,
   "id": "bafbbe6a",
   "metadata": {},
   "outputs": [],
   "source": [
    "X_train, X_test, y_train, y_test = train_test_split(train.iloc[:, 1:], train.iloc[:, 0], test_size = 0.2,\n",
    "                                                    random_state = 26)"
   ]
  },
  {
   "cell_type": "code",
   "execution_count": 54,
   "id": "0dc7667f",
   "metadata": {},
   "outputs": [],
   "source": [
    "# Print scores\n",
    "def print_score(test, pred):\n",
    "    print(f\"Accuracy : {round(accuracy_score(test, pred), 3)}%\")\n",
    "    print(f\"Recall : {round(recall_score(test, pred), 3)}%\")\n",
    "    print(f\"Precision : {round(precision_score(test, pred), 3)}%\")\n",
    "    print(f\"f1 Score : {round(f1_score(test, pred), 3)}%\")"
   ]
  },
  {
   "cell_type": "markdown",
   "id": "ea8cf2f5",
   "metadata": {},
   "source": [
    "# Models"
   ]
  },
  {
   "cell_type": "code",
   "execution_count": 55,
   "id": "56c01612",
   "metadata": {},
   "outputs": [],
   "source": [
    "# Models\n",
    "dt = DecisionTreeClassifier(random_state = 26)\n",
    "rf = RandomForestClassifier()\n",
    "knn = KNeighborsClassifier(n_neighbors = 10)\n",
    "xgb = XGBClassifier(booster = 'gbtree')\n",
    "svc = SVC()"
   ]
  },
  {
   "cell_type": "markdown",
   "id": "56892966",
   "metadata": {},
   "source": [
    "## Decision Tree Classifier"
   ]
  },
  {
   "cell_type": "code",
   "execution_count": 56,
   "id": "fe4bbecc",
   "metadata": {},
   "outputs": [
    {
     "name": "stdout",
     "output_type": "stream",
     "text": [
      "Accuracy : 0.799%\n",
      "Recall : 0.635%\n",
      "Precision : 0.755%\n",
      "f1 Score : 0.69%\n"
     ]
    }
   ],
   "source": [
    "# fitting the model\n",
    "dt.fit(X_train, y_train)\n",
    "\n",
    "# predictions\n",
    "y_pred = dt.predict(X_test)\n",
    "\n",
    "# print score\n",
    "print_score(y_test, y_pred)"
   ]
  },
  {
   "cell_type": "code",
   "execution_count": 57,
   "id": "c032075d",
   "metadata": {},
   "outputs": [],
   "source": [
    "# Hyperparameter tuning for DT\n",
    "dt_grid = {'max_depth': [3,4,5,6,7,8], 'min_samples_leaf': [2,4,6,8,10], 'min_samples_split':\n",
    "       [2,3,4,5,6,7,8,9,10]}\n",
    "\n",
    "dt_cv = GridSearchCV(DecisionTreeClassifier(), dt_grid, cv=10, n_jobs=-1, verbose=1)"
   ]
  },
  {
   "cell_type": "code",
   "execution_count": 58,
   "id": "96467f9f",
   "metadata": {},
   "outputs": [
    {
     "name": "stdout",
     "output_type": "stream",
     "text": [
      "Fitting 10 folds for each of 270 candidates, totalling 2700 fits\n"
     ]
    },
    {
     "data": {
      "text/plain": [
       "GridSearchCV(cv=10, estimator=DecisionTreeClassifier(), n_jobs=-1,\n",
       "             param_grid={'max_depth': [3, 4, 5, 6, 7, 8],\n",
       "                         'min_samples_leaf': [2, 4, 6, 8, 10],\n",
       "                         'min_samples_split': [2, 3, 4, 5, 6, 7, 8, 9, 10]},\n",
       "             verbose=1)"
      ]
     },
     "execution_count": 58,
     "metadata": {},
     "output_type": "execute_result"
    }
   ],
   "source": [
    "dt_cv.fit(X_train, y_train)"
   ]
  },
  {
   "cell_type": "code",
   "execution_count": 59,
   "id": "1636d3e3",
   "metadata": {},
   "outputs": [],
   "source": [
    "best_dt = dt_cv.best_estimator_"
   ]
  },
  {
   "cell_type": "code",
   "execution_count": 60,
   "id": "a1b1db39",
   "metadata": {},
   "outputs": [
    {
     "name": "stdout",
     "output_type": "stream",
     "text": [
      "Accuracy : 0.81%\n",
      "Recall : 0.683%\n",
      "Precision : 0.754%\n",
      "f1 Score : 0.717%\n"
     ]
    }
   ],
   "source": [
    "# fit the model\n",
    "best_dt.fit(X_train, y_train)\n",
    "\n",
    "# predictions\n",
    "y_pred = best_dt.predict(X_test)\n",
    "\n",
    "# print score\n",
    "print_score(y_test, y_pred)"
   ]
  },
  {
   "cell_type": "markdown",
   "id": "e4ab8fbf",
   "metadata": {},
   "source": [
    "## Random Forest Classifier"
   ]
  },
  {
   "cell_type": "code",
   "execution_count": 61,
   "id": "441cab30",
   "metadata": {},
   "outputs": [
    {
     "name": "stdout",
     "output_type": "stream",
     "text": [
      "Accuracy : 0.81%\n",
      "Recall : 0.667%\n",
      "Precision : 0.764%\n",
      "f1 Score : 0.712%\n"
     ]
    }
   ],
   "source": [
    "# fit the model\n",
    "rf.fit(X_train, y_train)\n",
    "\n",
    "# predictions\n",
    "y_pred = rf.predict(X_test)\n",
    "\n",
    "# print score\n",
    "print_score(y_test, y_pred)"
   ]
  },
  {
   "cell_type": "code",
   "execution_count": 62,
   "id": "d53fe5cf",
   "metadata": {},
   "outputs": [],
   "source": [
    "# Hyperparameter tuning for rf\n",
    "rf_grid = {'criterion':['gini', 'entropy', 'log_loss'], 'max_depth': [3,4,5,6,7,8], 'min_samples_leaf': [2,3,4,5,6,7,8,9,10],\n",
    "           'min_samples_split': [2,3,4,5,6,7,8]}\n",
    "\n",
    "rf_cv = GridSearchCV(RandomForestClassifier(), rf_grid, cv=10, n_jobs=-1, verbose=1)"
   ]
  },
  {
   "cell_type": "code",
   "execution_count": 63,
   "id": "0633a011",
   "metadata": {},
   "outputs": [
    {
     "name": "stdout",
     "output_type": "stream",
     "text": [
      "Fitting 10 folds for each of 1134 candidates, totalling 11340 fits\n"
     ]
    },
    {
     "name": "stderr",
     "output_type": "stream",
     "text": [
      "/Users/cheongkyler/opt/anaconda3/lib/python3.8/site-packages/sklearn/model_selection/_search.py:918: UserWarning: One or more of the test scores are non-finite: [0.80760955 0.80477308 0.80054773 ...        nan        nan        nan]\n",
      "  warnings.warn(\n"
     ]
    },
    {
     "data": {
      "text/plain": [
       "GridSearchCV(cv=10, estimator=RandomForestClassifier(), n_jobs=-1,\n",
       "             param_grid={'criterion': ['gini', 'entropy', 'log_loss'],\n",
       "                         'max_depth': [3, 4, 5, 6, 7, 8],\n",
       "                         'min_samples_leaf': [2, 3, 4, 5, 6, 7, 8, 9, 10],\n",
       "                         'min_samples_split': [2, 3, 4, 5, 6, 7, 8]},\n",
       "             verbose=1)"
      ]
     },
     "execution_count": 63,
     "metadata": {},
     "output_type": "execute_result"
    }
   ],
   "source": [
    "# fit the model\n",
    "rf_cv.fit(X_train, y_train)"
   ]
  },
  {
   "cell_type": "code",
   "execution_count": 64,
   "id": "bc1b7afc",
   "metadata": {},
   "outputs": [],
   "source": [
    "best_rf = rf_cv.best_estimator_"
   ]
  },
  {
   "cell_type": "code",
   "execution_count": 65,
   "id": "037260bc",
   "metadata": {},
   "outputs": [
    {
     "name": "stdout",
     "output_type": "stream",
     "text": [
      "Accuracy : 0.821%\n",
      "Recall : 0.667%\n",
      "Precision : 0.792%\n",
      "f1 Score : 0.724%\n"
     ]
    }
   ],
   "source": [
    "# fit data\n",
    "best_rf.fit(X_train, y_train)\n",
    "\n",
    "# predict data\n",
    "y_pred = best_rf.predict(X_test)\n",
    "\n",
    "# print score\n",
    "print_score(y_test, y_pred)"
   ]
  },
  {
   "cell_type": "code",
   "execution_count": 66,
   "id": "1c49925a",
   "metadata": {},
   "outputs": [
    {
     "data": {
      "text/plain": [
       "dict_keys(['bootstrap', 'ccp_alpha', 'class_weight', 'criterion', 'max_depth', 'max_features', 'max_leaf_nodes', 'max_samples', 'min_impurity_decrease', 'min_impurity_split', 'min_samples_leaf', 'min_samples_split', 'min_weight_fraction_leaf', 'n_estimators', 'n_jobs', 'oob_score', 'random_state', 'verbose', 'warm_start'])"
      ]
     },
     "execution_count": 66,
     "metadata": {},
     "output_type": "execute_result"
    }
   ],
   "source": [
    "RandomForestClassifier().get_params().keys()"
   ]
  },
  {
   "cell_type": "markdown",
   "id": "065b81a6",
   "metadata": {},
   "source": [
    "## K-Nearest Neighbors"
   ]
  },
  {
   "cell_type": "code",
   "execution_count": 67,
   "id": "93ff2f5b",
   "metadata": {},
   "outputs": [
    {
     "name": "stdout",
     "output_type": "stream",
     "text": [
      "Accuracy : 0.799%\n",
      "Recall : 0.667%\n",
      "Precision : 0.737%\n",
      "f1 Score : 0.7%\n"
     ]
    }
   ],
   "source": [
    "# fit model\n",
    "knn.fit(X_train, y_train)\n",
    "\n",
    "# predictions\n",
    "y_pred = knn.predict(X_test)\n",
    "\n",
    "# model score\n",
    "print_score(y_test, y_pred)"
   ]
  },
  {
   "cell_type": "code",
   "execution_count": 68,
   "id": "a6f37713",
   "metadata": {},
   "outputs": [],
   "source": [
    "# Hyperparameter tuning in knn\n",
    "knn_grid = {'n_neighbors' : list(range(3,100)), 'p' : [1,2]}\n",
    "\n",
    "knn_cv = GridSearchCV(KNeighborsClassifier(), knn_grid, cv=10, n_jobs=-1, verbose=1)"
   ]
  },
  {
   "cell_type": "code",
   "execution_count": 69,
   "id": "24a0ef99",
   "metadata": {},
   "outputs": [
    {
     "name": "stdout",
     "output_type": "stream",
     "text": [
      "Fitting 10 folds for each of 194 candidates, totalling 1940 fits\n"
     ]
    },
    {
     "data": {
      "text/plain": [
       "GridSearchCV(cv=10, estimator=KNeighborsClassifier(), n_jobs=-1,\n",
       "             param_grid={'n_neighbors': [3, 4, 5, 6, 7, 8, 9, 10, 11, 12, 13,\n",
       "                                         14, 15, 16, 17, 18, 19, 20, 21, 22, 23,\n",
       "                                         24, 25, 26, 27, 28, 29, 30, 31, 32, ...],\n",
       "                         'p': [1, 2]},\n",
       "             verbose=1)"
      ]
     },
     "execution_count": 69,
     "metadata": {},
     "output_type": "execute_result"
    }
   ],
   "source": [
    "knn_cv.fit(X_train, y_train)"
   ]
  },
  {
   "cell_type": "code",
   "execution_count": 70,
   "id": "c9e2d844",
   "metadata": {},
   "outputs": [],
   "source": [
    "best_knn = knn_cv.best_estimator_"
   ]
  },
  {
   "cell_type": "code",
   "execution_count": 71,
   "id": "b9e4e6e1",
   "metadata": {},
   "outputs": [
    {
     "name": "stdout",
     "output_type": "stream",
     "text": [
      "Accuracy : 0.799%\n",
      "Recall : 0.667%\n",
      "Precision : 0.737%\n",
      "f1 Score : 0.7%\n"
     ]
    }
   ],
   "source": [
    "# fit model\n",
    "best_knn.fit(X_train, y_train)\n",
    "\n",
    "# predictions\n",
    "y_pred = best_knn.predict(X_test)\n",
    "\n",
    "# print score\n",
    "print_score(y_test, y_pred)"
   ]
  },
  {
   "cell_type": "markdown",
   "id": "b883fbe8",
   "metadata": {},
   "source": [
    "## XGBoost"
   ]
  },
  {
   "cell_type": "code",
   "execution_count": 72,
   "id": "91c05707",
   "metadata": {},
   "outputs": [
    {
     "name": "stdout",
     "output_type": "stream",
     "text": [
      "Accuracy : 0.804%\n",
      "Recall : 0.667%\n",
      "Precision : 0.75%\n",
      "f1 Score : 0.706%\n"
     ]
    }
   ],
   "source": [
    "# fit data\n",
    "xgb.fit(X_train, y_train)\n",
    "\n",
    "# predictions\n",
    "y_pred = xgb.predict(X_test)\n",
    "\n",
    "# print scores\n",
    "print_score(y_test, y_pred)"
   ]
  },
  {
   "cell_type": "code",
   "execution_count": 73,
   "id": "68567f9a",
   "metadata": {},
   "outputs": [],
   "source": [
    "# Hyperparameter tuning in xgb\n",
    "xgb_grid = {'eta': [0.3, 0.4, 0.5, 0.6, 0.7, 0.8], \"learning_rate\": [0.01, 0.05, 0.1], \"n_estimators\": \n",
    "            [100, 500, 1000]}\n",
    "\n",
    "xgb_cv = GridSearchCV(XGBClassifier(booster = 'gbtree'), xgb_grid, cv=10, n_jobs=-1, verbose=1)"
   ]
  },
  {
   "cell_type": "code",
   "execution_count": 74,
   "id": "de4fb07b",
   "metadata": {},
   "outputs": [
    {
     "name": "stdout",
     "output_type": "stream",
     "text": [
      "Fitting 10 folds for each of 54 candidates, totalling 540 fits\n"
     ]
    },
    {
     "data": {
      "text/plain": [
       "GridSearchCV(cv=10,\n",
       "             estimator=XGBClassifier(base_score=None, booster='gbtree',\n",
       "                                     colsample_bylevel=None,\n",
       "                                     colsample_bynode=None,\n",
       "                                     colsample_bytree=None, gamma=None,\n",
       "                                     gpu_id=None, importance_type='gain',\n",
       "                                     interaction_constraints=None,\n",
       "                                     learning_rate=None, max_delta_step=None,\n",
       "                                     max_depth=None, min_child_weight=None,\n",
       "                                     missing=nan, monotone_constraints=None,\n",
       "                                     n_estimators=100, n_jobs=None,\n",
       "                                     num_parallel_tree=None, random_state=None,\n",
       "                                     reg_alpha=None, reg_lambda=None,\n",
       "                                     scale_pos_weight=None, subsample=None,\n",
       "                                     tree_method=None, validate_parameters=None,\n",
       "                                     verbosity=None),\n",
       "             n_jobs=-1,\n",
       "             param_grid={'eta': [0.3, 0.4, 0.5, 0.6, 0.7, 0.8],\n",
       "                         'learning_rate': [0.01, 0.05, 0.1],\n",
       "                         'n_estimators': [100, 500, 1000]},\n",
       "             verbose=1)"
      ]
     },
     "execution_count": 74,
     "metadata": {},
     "output_type": "execute_result"
    }
   ],
   "source": [
    "xgb_cv.fit(X_train, y_train)"
   ]
  },
  {
   "cell_type": "code",
   "execution_count": 75,
   "id": "81cc166d",
   "metadata": {},
   "outputs": [],
   "source": [
    "best_xgb = xgb_cv.best_estimator_"
   ]
  },
  {
   "cell_type": "code",
   "execution_count": 76,
   "id": "bac7233c",
   "metadata": {},
   "outputs": [
    {
     "name": "stdout",
     "output_type": "stream",
     "text": [
      "Accuracy : 0.799%\n",
      "Recall : 0.667%\n",
      "Precision : 0.737%\n",
      "f1 Score : 0.7%\n"
     ]
    }
   ],
   "source": [
    "# fit model\n",
    "best_xgb.fit(X_train, y_train)\n",
    "\n",
    "# predictions\n",
    "y_pred = best_xgb.predict(X_test)\n",
    "\n",
    "# print score\n",
    "print_score(y_test, y_pred)"
   ]
  },
  {
   "cell_type": "markdown",
   "id": "b83504cc",
   "metadata": {},
   "source": [
    "## SVM"
   ]
  },
  {
   "cell_type": "code",
   "execution_count": 77,
   "id": "38b34e40",
   "metadata": {},
   "outputs": [
    {
     "name": "stdout",
     "output_type": "stream",
     "text": [
      "Accuracy : 0.816%\n",
      "Recall : 0.714%\n",
      "Precision : 0.75%\n",
      "f1 Score : 0.732%\n"
     ]
    }
   ],
   "source": [
    "# fit data\n",
    "svc.fit(X_train, y_train)\n",
    "\n",
    "# predictions\n",
    "y_pred = svc.predict(X_test)\n",
    "\n",
    "# print scores\n",
    "print_score(y_test, y_pred)"
   ]
  },
  {
   "cell_type": "code",
   "execution_count": 78,
   "id": "a8cd2062",
   "metadata": {},
   "outputs": [],
   "source": [
    "# Hyperparameter tuning in svc\n",
    "svc_grid = {'kernel': ['rbf', 'poly', 'sigmoid'], 'degree':[2,3,4,5,6,7], 'gamma': np.linspace(0,1,10).tolist()}\n",
    "\n",
    "svc_cv = GridSearchCV(SVC(), svc_grid, cv=10, n_jobs=-1, verbose=1)"
   ]
  },
  {
   "cell_type": "code",
   "execution_count": 79,
   "id": "c37829e7",
   "metadata": {},
   "outputs": [
    {
     "name": "stdout",
     "output_type": "stream",
     "text": [
      "Fitting 10 folds for each of 180 candidates, totalling 1800 fits\n"
     ]
    },
    {
     "data": {
      "text/plain": [
       "GridSearchCV(cv=10, estimator=SVC(), n_jobs=-1,\n",
       "             param_grid={'degree': [2, 3, 4, 5, 6, 7],\n",
       "                         'gamma': [0.0, 0.1111111111111111, 0.2222222222222222,\n",
       "                                   0.3333333333333333, 0.4444444444444444,\n",
       "                                   0.5555555555555556, 0.6666666666666666,\n",
       "                                   0.7777777777777777, 0.8888888888888888,\n",
       "                                   1.0],\n",
       "                         'kernel': ['rbf', 'poly', 'sigmoid']},\n",
       "             verbose=1)"
      ]
     },
     "execution_count": 79,
     "metadata": {},
     "output_type": "execute_result"
    }
   ],
   "source": [
    "svc_cv.fit(X_train, y_train)"
   ]
  },
  {
   "cell_type": "code",
   "execution_count": 80,
   "id": "ba533d10",
   "metadata": {},
   "outputs": [],
   "source": [
    "best_svc = svc_cv.best_estimator_"
   ]
  },
  {
   "cell_type": "code",
   "execution_count": 81,
   "id": "d1693be7",
   "metadata": {},
   "outputs": [
    {
     "name": "stdout",
     "output_type": "stream",
     "text": [
      "Accuracy : 0.827%\n",
      "Recall : 0.667%\n",
      "Precision : 0.808%\n",
      "f1 Score : 0.73%\n"
     ]
    }
   ],
   "source": [
    "# fit model\n",
    "best_svc.fit(X_train, y_train)\n",
    "\n",
    "# predictions\n",
    "y_pred = best_svc.predict(X_test)\n",
    "\n",
    "# print score\n",
    "print_score(y_test, y_pred)"
   ]
  },
  {
   "cell_type": "markdown",
   "id": "0ec32f07",
   "metadata": {},
   "source": [
    "# Evaluation\n",
    "\n",
    "Purely on accuracy score, best_svc and best_rf have the highest accuracy of 0.816%\n",
    "\n",
    "**best_svc : 0.827**\n",
    "\n",
    "**best_rf : 0.821**\n",
    "\n",
    "**best_dt : 0.810**\n",
    "\n",
    "**xgb : 0.804**\n",
    "\n",
    "**best_knn : 0.799**"
   ]
  },
  {
   "cell_type": "markdown",
   "id": "fd0d3cc2",
   "metadata": {},
   "source": [
    "## Best Model"
   ]
  },
  {
   "cell_type": "code",
   "execution_count": 86,
   "id": "4ee97de3",
   "metadata": {},
   "outputs": [],
   "source": [
    "# use best_rf to predict on test set\n",
    "y_predictions = best_rf.predict(test)"
   ]
  },
  {
   "cell_type": "code",
   "execution_count": 87,
   "id": "2e3fc96d",
   "metadata": {},
   "outputs": [],
   "source": [
    "y_predictions = pd.DataFrame(y_predictions)"
   ]
  },
  {
   "cell_type": "code",
   "execution_count": 88,
   "id": "cf60e258",
   "metadata": {},
   "outputs": [],
   "source": [
    "output = pd.DataFrame({'PassengerId': test_id.iloc[:, 0], 'Survived': y_predictions.iloc[:, 0]})"
   ]
  },
  {
   "cell_type": "markdown",
   "id": "5a7e8e27",
   "metadata": {},
   "source": [
    "# Submission"
   ]
  },
  {
   "cell_type": "code",
   "execution_count": 89,
   "id": "a43b3d0f",
   "metadata": {},
   "outputs": [
    {
     "name": "stdout",
     "output_type": "stream",
     "text": [
      "Your submission was successfully saved!\n"
     ]
    }
   ],
   "source": [
    "output.to_csv('submission.csv', index=False)\n",
    "\n",
    "print(\"Your submission was successfully saved!\")"
   ]
  }
 ],
 "metadata": {
  "kernelspec": {
   "display_name": "Python 3 (ipykernel)",
   "language": "python",
   "name": "python3"
  },
  "language_info": {
   "codemirror_mode": {
    "name": "ipython",
    "version": 3
   },
   "file_extension": ".py",
   "mimetype": "text/x-python",
   "name": "python",
   "nbconvert_exporter": "python",
   "pygments_lexer": "ipython3",
   "version": "3.9.12"
  }
 },
 "nbformat": 4,
 "nbformat_minor": 5
}

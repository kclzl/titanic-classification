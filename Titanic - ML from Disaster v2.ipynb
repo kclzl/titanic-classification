{
 "cells": [
  {
   "cell_type": "markdown",
   "id": "7d01220c",
   "metadata": {},
   "source": [
    "# Titanic v2"
   ]
  },
  {
   "cell_type": "markdown",
   "id": "fd29ac13",
   "metadata": {},
   "source": [
    "#### Import Libraries"
   ]
  },
  {
   "cell_type": "code",
   "execution_count": 96,
   "id": "30fb794f",
   "metadata": {},
   "outputs": [],
   "source": [
    "# Standard Libraries\n",
    "import numpy as np\n",
    "import pandas as pd\n",
    "import seaborn as sns\n",
    "import matplotlib.pyplot as plt\n",
    "import scipy.stats as stats\n",
    "import random as random\n",
    "\n",
    "# Function to fill missing values\n",
    "from sklearn.impute import SimpleImputer\n",
    "from random import randint\n",
    "\n",
    "# EDA/ Data Preprocessing\n",
    "from sklearn.preprocessing import OneHotEncoder\n",
    "from sklearn.preprocessing import OrdinalEncoder\n",
    "from sklearn.preprocessing import MinMaxScaler\n",
    "from sklearn.preprocessing import StandardScaler\n",
    "from sklearn.feature_selection import VarianceThreshold\n",
    "from sklearn.compose import make_column_transformer\n",
    "\n",
    "# Model Splitting\n",
    "from sklearn.model_selection import train_test_split\n",
    "from sklearn.model_selection import cross_val_score\n",
    "from sklearn.model_selection import GridSearchCV\n",
    "from sklearn.feature_selection import VarianceThreshold\n",
    "\n",
    "# Models\n",
    "from sklearn.tree import DecisionTreeClassifier\n",
    "from sklearn.ensemble import RandomForestClassifier\n",
    "from sklearn.neighbors import KNeighborsClassifier\n",
    "from xgboost import XGBClassifier\n",
    "from sklearn.svm import SVC\n",
    "\n",
    "# Scoring Metrics\n",
    "from sklearn.metrics import *"
   ]
  },
  {
   "cell_type": "markdown",
   "id": "043eee1f",
   "metadata": {},
   "source": [
    "#### Reading Data"
   ]
  },
  {
   "cell_type": "code",
   "execution_count": 2,
   "id": "ea8ea7cf",
   "metadata": {},
   "outputs": [],
   "source": [
    "# Read CSV file\n",
    "train = pd.read_csv('./train.csv')\n",
    "test = pd.read_csv('./test.csv')"
   ]
  },
  {
   "cell_type": "markdown",
   "id": "0df60fc5",
   "metadata": {},
   "source": [
    "#### Settings"
   ]
  },
  {
   "cell_type": "code",
   "execution_count": 3,
   "id": "241b9f8c",
   "metadata": {},
   "outputs": [],
   "source": [
    "pd.set_option('display.max_columns', None)\n",
    "pd.set_option('display.max_rows', None) "
   ]
  },
  {
   "cell_type": "markdown",
   "id": "fd82f355",
   "metadata": {},
   "source": [
    "#### Initial Analysis of Dataset"
   ]
  },
  {
   "cell_type": "code",
   "execution_count": 4,
   "id": "0cc7e25c",
   "metadata": {},
   "outputs": [
    {
     "name": "stdout",
     "output_type": "stream",
     "text": [
      "Shape of Train set (raw) : (891, 12)\n",
      "Shape of Test set (raw) : (418, 11)\n"
     ]
    }
   ],
   "source": [
    "# Shape of Data\n",
    "print(f\"Shape of Train set (raw) : {train.shape}\")\n",
    "print(f\"Shape of Test set (raw) : {test.shape}\")"
   ]
  },
  {
   "cell_type": "code",
   "execution_count": 5,
   "id": "3b69f699",
   "metadata": {},
   "outputs": [
    {
     "name": "stdout",
     "output_type": "stream",
     "text": [
      "Columns in Train but not in Test : ['Survived']\n",
      "Columns in Test but not in Train : []\n"
     ]
    }
   ],
   "source": [
    "# Missing variable\n",
    "print(f\"Columns in Train but not in Test : {[col for col in train.columns if col not in test.columns]}\")\n",
    "print(f\"Columns in Test but not in Train : {[col for col in test.columns if col not in train.columns]}\")"
   ]
  },
  {
   "cell_type": "code",
   "execution_count": 6,
   "id": "6dfa43a4",
   "metadata": {},
   "outputs": [
    {
     "name": "stdout",
     "output_type": "stream",
     "text": [
      "<class 'pandas.core.frame.DataFrame'>\n",
      "RangeIndex: 891 entries, 0 to 890\n",
      "Data columns (total 12 columns):\n",
      " #   Column       Non-Null Count  Dtype  \n",
      "---  ------       --------------  -----  \n",
      " 0   PassengerId  891 non-null    int64  \n",
      " 1   Survived     891 non-null    int64  \n",
      " 2   Pclass       891 non-null    int64  \n",
      " 3   Name         891 non-null    object \n",
      " 4   Sex          891 non-null    object \n",
      " 5   Age          714 non-null    float64\n",
      " 6   SibSp        891 non-null    int64  \n",
      " 7   Parch        891 non-null    int64  \n",
      " 8   Ticket       891 non-null    object \n",
      " 9   Fare         891 non-null    float64\n",
      " 10  Cabin        204 non-null    object \n",
      " 11  Embarked     889 non-null    object \n",
      "dtypes: float64(2), int64(5), object(5)\n",
      "memory usage: 83.7+ KB\n"
     ]
    }
   ],
   "source": [
    "train.info()"
   ]
  },
  {
   "cell_type": "code",
   "execution_count": 7,
   "id": "c4434b51",
   "metadata": {},
   "outputs": [
    {
     "name": "stdout",
     "output_type": "stream",
     "text": [
      "<class 'pandas.core.frame.DataFrame'>\n",
      "RangeIndex: 418 entries, 0 to 417\n",
      "Data columns (total 11 columns):\n",
      " #   Column       Non-Null Count  Dtype  \n",
      "---  ------       --------------  -----  \n",
      " 0   PassengerId  418 non-null    int64  \n",
      " 1   Pclass       418 non-null    int64  \n",
      " 2   Name         418 non-null    object \n",
      " 3   Sex          418 non-null    object \n",
      " 4   Age          332 non-null    float64\n",
      " 5   SibSp        418 non-null    int64  \n",
      " 6   Parch        418 non-null    int64  \n",
      " 7   Ticket       418 non-null    object \n",
      " 8   Fare         417 non-null    float64\n",
      " 9   Cabin        91 non-null     object \n",
      " 10  Embarked     418 non-null    object \n",
      "dtypes: float64(2), int64(4), object(5)\n",
      "memory usage: 36.0+ KB\n"
     ]
    }
   ],
   "source": [
    "test.info()"
   ]
  },
  {
   "cell_type": "markdown",
   "id": "a95204f0",
   "metadata": {},
   "source": [
    "#### Number of missing values in train and test sets"
   ]
  },
  {
   "cell_type": "code",
   "execution_count": 8,
   "id": "68bd7800",
   "metadata": {},
   "outputs": [
    {
     "data": {
      "text/plain": [
       "PassengerId      0\n",
       "Survived         0\n",
       "Pclass           0\n",
       "Name             0\n",
       "Sex              0\n",
       "Age            177\n",
       "SibSp            0\n",
       "Parch            0\n",
       "Ticket           0\n",
       "Fare             0\n",
       "Cabin          687\n",
       "Embarked         2\n",
       "dtype: int64"
      ]
     },
     "execution_count": 8,
     "metadata": {},
     "output_type": "execute_result"
    }
   ],
   "source": [
    "train.isna().sum()"
   ]
  },
  {
   "cell_type": "code",
   "execution_count": 9,
   "id": "df4a5be3",
   "metadata": {},
   "outputs": [
    {
     "data": {
      "text/plain": [
       "PassengerId      0\n",
       "Pclass           0\n",
       "Name             0\n",
       "Sex              0\n",
       "Age             86\n",
       "SibSp            0\n",
       "Parch            0\n",
       "Ticket           0\n",
       "Fare             1\n",
       "Cabin          327\n",
       "Embarked         0\n",
       "dtype: int64"
      ]
     },
     "execution_count": 9,
     "metadata": {},
     "output_type": "execute_result"
    }
   ],
   "source": [
    "test.isna().sum()"
   ]
  },
  {
   "cell_type": "markdown",
   "id": "e444921a",
   "metadata": {},
   "source": [
    "`train` set contains 3 columns of missing values: `Cabin`>`Age`>`Embarked`\n",
    "\n",
    "`test` set contains 3 columns of missing values: `Cabin`>`Age`>`Fare`"
   ]
  },
  {
   "cell_type": "markdown",
   "id": "7950e25e",
   "metadata": {},
   "source": [
    "#### Descriptive Statistics about the training set"
   ]
  },
  {
   "cell_type": "code",
   "execution_count": 10,
   "id": "ee021165",
   "metadata": {},
   "outputs": [
    {
     "data": {
      "text/html": [
       "<div>\n",
       "<style scoped>\n",
       "    .dataframe tbody tr th:only-of-type {\n",
       "        vertical-align: middle;\n",
       "    }\n",
       "\n",
       "    .dataframe tbody tr th {\n",
       "        vertical-align: top;\n",
       "    }\n",
       "\n",
       "    .dataframe thead th {\n",
       "        text-align: right;\n",
       "    }\n",
       "</style>\n",
       "<table border=\"1\" class=\"dataframe\">\n",
       "  <thead>\n",
       "    <tr style=\"text-align: right;\">\n",
       "      <th></th>\n",
       "      <th>PassengerId</th>\n",
       "      <th>Survived</th>\n",
       "      <th>Pclass</th>\n",
       "      <th>Age</th>\n",
       "      <th>SibSp</th>\n",
       "      <th>Parch</th>\n",
       "      <th>Fare</th>\n",
       "    </tr>\n",
       "  </thead>\n",
       "  <tbody>\n",
       "    <tr>\n",
       "      <th>count</th>\n",
       "      <td>891.000000</td>\n",
       "      <td>891.000000</td>\n",
       "      <td>891.000000</td>\n",
       "      <td>714.000000</td>\n",
       "      <td>891.000000</td>\n",
       "      <td>891.000000</td>\n",
       "      <td>891.000000</td>\n",
       "    </tr>\n",
       "    <tr>\n",
       "      <th>mean</th>\n",
       "      <td>446.000000</td>\n",
       "      <td>0.383838</td>\n",
       "      <td>2.308642</td>\n",
       "      <td>29.699118</td>\n",
       "      <td>0.523008</td>\n",
       "      <td>0.381594</td>\n",
       "      <td>32.204208</td>\n",
       "    </tr>\n",
       "    <tr>\n",
       "      <th>std</th>\n",
       "      <td>257.353842</td>\n",
       "      <td>0.486592</td>\n",
       "      <td>0.836071</td>\n",
       "      <td>14.526497</td>\n",
       "      <td>1.102743</td>\n",
       "      <td>0.806057</td>\n",
       "      <td>49.693429</td>\n",
       "    </tr>\n",
       "    <tr>\n",
       "      <th>min</th>\n",
       "      <td>1.000000</td>\n",
       "      <td>0.000000</td>\n",
       "      <td>1.000000</td>\n",
       "      <td>0.420000</td>\n",
       "      <td>0.000000</td>\n",
       "      <td>0.000000</td>\n",
       "      <td>0.000000</td>\n",
       "    </tr>\n",
       "    <tr>\n",
       "      <th>25%</th>\n",
       "      <td>223.500000</td>\n",
       "      <td>0.000000</td>\n",
       "      <td>2.000000</td>\n",
       "      <td>20.125000</td>\n",
       "      <td>0.000000</td>\n",
       "      <td>0.000000</td>\n",
       "      <td>7.910400</td>\n",
       "    </tr>\n",
       "    <tr>\n",
       "      <th>50%</th>\n",
       "      <td>446.000000</td>\n",
       "      <td>0.000000</td>\n",
       "      <td>3.000000</td>\n",
       "      <td>28.000000</td>\n",
       "      <td>0.000000</td>\n",
       "      <td>0.000000</td>\n",
       "      <td>14.454200</td>\n",
       "    </tr>\n",
       "    <tr>\n",
       "      <th>75%</th>\n",
       "      <td>668.500000</td>\n",
       "      <td>1.000000</td>\n",
       "      <td>3.000000</td>\n",
       "      <td>38.000000</td>\n",
       "      <td>1.000000</td>\n",
       "      <td>0.000000</td>\n",
       "      <td>31.000000</td>\n",
       "    </tr>\n",
       "    <tr>\n",
       "      <th>max</th>\n",
       "      <td>891.000000</td>\n",
       "      <td>1.000000</td>\n",
       "      <td>3.000000</td>\n",
       "      <td>80.000000</td>\n",
       "      <td>8.000000</td>\n",
       "      <td>6.000000</td>\n",
       "      <td>512.329200</td>\n",
       "    </tr>\n",
       "  </tbody>\n",
       "</table>\n",
       "</div>"
      ],
      "text/plain": [
       "       PassengerId    Survived      Pclass         Age       SibSp  \\\n",
       "count   891.000000  891.000000  891.000000  714.000000  891.000000   \n",
       "mean    446.000000    0.383838    2.308642   29.699118    0.523008   \n",
       "std     257.353842    0.486592    0.836071   14.526497    1.102743   \n",
       "min       1.000000    0.000000    1.000000    0.420000    0.000000   \n",
       "25%     223.500000    0.000000    2.000000   20.125000    0.000000   \n",
       "50%     446.000000    0.000000    3.000000   28.000000    0.000000   \n",
       "75%     668.500000    1.000000    3.000000   38.000000    1.000000   \n",
       "max     891.000000    1.000000    3.000000   80.000000    8.000000   \n",
       "\n",
       "            Parch        Fare  \n",
       "count  891.000000  891.000000  \n",
       "mean     0.381594   32.204208  \n",
       "std      0.806057   49.693429  \n",
       "min      0.000000    0.000000  \n",
       "25%      0.000000    7.910400  \n",
       "50%      0.000000   14.454200  \n",
       "75%      0.000000   31.000000  \n",
       "max      6.000000  512.329200  "
      ]
     },
     "execution_count": 10,
     "metadata": {},
     "output_type": "execute_result"
    }
   ],
   "source": [
    "train.describe()"
   ]
  },
  {
   "cell_type": "code",
   "execution_count": 11,
   "id": "60df5a1a",
   "metadata": {},
   "outputs": [
    {
     "data": {
      "text/html": [
       "<div>\n",
       "<style scoped>\n",
       "    .dataframe tbody tr th:only-of-type {\n",
       "        vertical-align: middle;\n",
       "    }\n",
       "\n",
       "    .dataframe tbody tr th {\n",
       "        vertical-align: top;\n",
       "    }\n",
       "\n",
       "    .dataframe thead th {\n",
       "        text-align: right;\n",
       "    }\n",
       "</style>\n",
       "<table border=\"1\" class=\"dataframe\">\n",
       "  <thead>\n",
       "    <tr style=\"text-align: right;\">\n",
       "      <th></th>\n",
       "      <th>Name</th>\n",
       "      <th>Sex</th>\n",
       "      <th>Ticket</th>\n",
       "      <th>Cabin</th>\n",
       "      <th>Embarked</th>\n",
       "    </tr>\n",
       "  </thead>\n",
       "  <tbody>\n",
       "    <tr>\n",
       "      <th>count</th>\n",
       "      <td>891</td>\n",
       "      <td>891</td>\n",
       "      <td>891</td>\n",
       "      <td>204</td>\n",
       "      <td>889</td>\n",
       "    </tr>\n",
       "    <tr>\n",
       "      <th>unique</th>\n",
       "      <td>891</td>\n",
       "      <td>2</td>\n",
       "      <td>681</td>\n",
       "      <td>147</td>\n",
       "      <td>3</td>\n",
       "    </tr>\n",
       "    <tr>\n",
       "      <th>top</th>\n",
       "      <td>McCoy, Mr. Bernard</td>\n",
       "      <td>male</td>\n",
       "      <td>CA. 2343</td>\n",
       "      <td>C23 C25 C27</td>\n",
       "      <td>S</td>\n",
       "    </tr>\n",
       "    <tr>\n",
       "      <th>freq</th>\n",
       "      <td>1</td>\n",
       "      <td>577</td>\n",
       "      <td>7</td>\n",
       "      <td>4</td>\n",
       "      <td>644</td>\n",
       "    </tr>\n",
       "  </tbody>\n",
       "</table>\n",
       "</div>"
      ],
      "text/plain": [
       "                      Name   Sex    Ticket        Cabin Embarked\n",
       "count                  891   891       891          204      889\n",
       "unique                 891     2       681          147        3\n",
       "top     McCoy, Mr. Bernard  male  CA. 2343  C23 C25 C27        S\n",
       "freq                     1   577         7            4      644"
      ]
     },
     "execution_count": 11,
     "metadata": {},
     "output_type": "execute_result"
    }
   ],
   "source": [
    "train.describe(include = ['O'])"
   ]
  },
  {
   "cell_type": "markdown",
   "id": "f354170d",
   "metadata": {},
   "source": [
    "- `PassengerId` : drop it because it is useless.\n",
    "- `Survived` : Approximately 38.3% of people survived.\n",
    "- `Pclass` : categorical variable did ordinal encoding already.\n",
    "- `Age` : Average age is approximately 29.6 years old. Youngest: 0 years old, Oldest: 80 years old.\n",
    "- `SibSp` : Most number of siblings/ spouses is 8. Might need to remove outliers.\n",
    "- `Parch` : Most number of parents/ children is 6. Might need to remove outliers.\n",
    "- `Fare` : Median fare is 14 dollars, while average fair is 32 dollars, might need to apply log tranformation and remove outliers.\n",
    "- `Name` : Every name is different and hence might need to separate out the titles.\n",
    "- `Sex` : 2 different sexes only, use one-hot-encoding.\n",
    "- `Ticket` : 681 different tickets, too many categories, might need to drop it.\n",
    "- `Cabin` : A significant number of missing values, might not hold important information, drop it also can.\n",
    "- `Embarked` : 2 missing values, impute with mode check the survival rate of the people, if varies significantly from port to port then use ordinal encoding, else one-hot-encoding."
   ]
  },
  {
   "cell_type": "code",
   "execution_count": 12,
   "id": "c397ad21",
   "metadata": {},
   "outputs": [
    {
     "data": {
      "text/html": [
       "<div>\n",
       "<style scoped>\n",
       "    .dataframe tbody tr th:only-of-type {\n",
       "        vertical-align: middle;\n",
       "    }\n",
       "\n",
       "    .dataframe tbody tr th {\n",
       "        vertical-align: top;\n",
       "    }\n",
       "\n",
       "    .dataframe thead th {\n",
       "        text-align: right;\n",
       "    }\n",
       "</style>\n",
       "<table border=\"1\" class=\"dataframe\">\n",
       "  <thead>\n",
       "    <tr style=\"text-align: right;\">\n",
       "      <th></th>\n",
       "      <th>PassengerId</th>\n",
       "      <th>Pclass</th>\n",
       "      <th>Age</th>\n",
       "      <th>SibSp</th>\n",
       "      <th>Parch</th>\n",
       "      <th>Fare</th>\n",
       "    </tr>\n",
       "  </thead>\n",
       "  <tbody>\n",
       "    <tr>\n",
       "      <th>count</th>\n",
       "      <td>418.000000</td>\n",
       "      <td>418.000000</td>\n",
       "      <td>332.000000</td>\n",
       "      <td>418.000000</td>\n",
       "      <td>418.000000</td>\n",
       "      <td>417.000000</td>\n",
       "    </tr>\n",
       "    <tr>\n",
       "      <th>mean</th>\n",
       "      <td>1100.500000</td>\n",
       "      <td>2.265550</td>\n",
       "      <td>30.272590</td>\n",
       "      <td>0.447368</td>\n",
       "      <td>0.392344</td>\n",
       "      <td>35.627188</td>\n",
       "    </tr>\n",
       "    <tr>\n",
       "      <th>std</th>\n",
       "      <td>120.810458</td>\n",
       "      <td>0.841838</td>\n",
       "      <td>14.181209</td>\n",
       "      <td>0.896760</td>\n",
       "      <td>0.981429</td>\n",
       "      <td>55.907576</td>\n",
       "    </tr>\n",
       "    <tr>\n",
       "      <th>min</th>\n",
       "      <td>892.000000</td>\n",
       "      <td>1.000000</td>\n",
       "      <td>0.170000</td>\n",
       "      <td>0.000000</td>\n",
       "      <td>0.000000</td>\n",
       "      <td>0.000000</td>\n",
       "    </tr>\n",
       "    <tr>\n",
       "      <th>25%</th>\n",
       "      <td>996.250000</td>\n",
       "      <td>1.000000</td>\n",
       "      <td>21.000000</td>\n",
       "      <td>0.000000</td>\n",
       "      <td>0.000000</td>\n",
       "      <td>7.895800</td>\n",
       "    </tr>\n",
       "    <tr>\n",
       "      <th>50%</th>\n",
       "      <td>1100.500000</td>\n",
       "      <td>3.000000</td>\n",
       "      <td>27.000000</td>\n",
       "      <td>0.000000</td>\n",
       "      <td>0.000000</td>\n",
       "      <td>14.454200</td>\n",
       "    </tr>\n",
       "    <tr>\n",
       "      <th>75%</th>\n",
       "      <td>1204.750000</td>\n",
       "      <td>3.000000</td>\n",
       "      <td>39.000000</td>\n",
       "      <td>1.000000</td>\n",
       "      <td>0.000000</td>\n",
       "      <td>31.500000</td>\n",
       "    </tr>\n",
       "    <tr>\n",
       "      <th>max</th>\n",
       "      <td>1309.000000</td>\n",
       "      <td>3.000000</td>\n",
       "      <td>76.000000</td>\n",
       "      <td>8.000000</td>\n",
       "      <td>9.000000</td>\n",
       "      <td>512.329200</td>\n",
       "    </tr>\n",
       "  </tbody>\n",
       "</table>\n",
       "</div>"
      ],
      "text/plain": [
       "       PassengerId      Pclass         Age       SibSp       Parch        Fare\n",
       "count   418.000000  418.000000  332.000000  418.000000  418.000000  417.000000\n",
       "mean   1100.500000    2.265550   30.272590    0.447368    0.392344   35.627188\n",
       "std     120.810458    0.841838   14.181209    0.896760    0.981429   55.907576\n",
       "min     892.000000    1.000000    0.170000    0.000000    0.000000    0.000000\n",
       "25%     996.250000    1.000000   21.000000    0.000000    0.000000    7.895800\n",
       "50%    1100.500000    3.000000   27.000000    0.000000    0.000000   14.454200\n",
       "75%    1204.750000    3.000000   39.000000    1.000000    0.000000   31.500000\n",
       "max    1309.000000    3.000000   76.000000    8.000000    9.000000  512.329200"
      ]
     },
     "execution_count": 12,
     "metadata": {},
     "output_type": "execute_result"
    }
   ],
   "source": [
    "test.describe()"
   ]
  },
  {
   "cell_type": "code",
   "execution_count": 13,
   "id": "61d3e23b",
   "metadata": {},
   "outputs": [
    {
     "data": {
      "text/html": [
       "<div>\n",
       "<style scoped>\n",
       "    .dataframe tbody tr th:only-of-type {\n",
       "        vertical-align: middle;\n",
       "    }\n",
       "\n",
       "    .dataframe tbody tr th {\n",
       "        vertical-align: top;\n",
       "    }\n",
       "\n",
       "    .dataframe thead th {\n",
       "        text-align: right;\n",
       "    }\n",
       "</style>\n",
       "<table border=\"1\" class=\"dataframe\">\n",
       "  <thead>\n",
       "    <tr style=\"text-align: right;\">\n",
       "      <th></th>\n",
       "      <th>Name</th>\n",
       "      <th>Sex</th>\n",
       "      <th>Ticket</th>\n",
       "      <th>Cabin</th>\n",
       "      <th>Embarked</th>\n",
       "    </tr>\n",
       "  </thead>\n",
       "  <tbody>\n",
       "    <tr>\n",
       "      <th>count</th>\n",
       "      <td>418</td>\n",
       "      <td>418</td>\n",
       "      <td>418</td>\n",
       "      <td>91</td>\n",
       "      <td>418</td>\n",
       "    </tr>\n",
       "    <tr>\n",
       "      <th>unique</th>\n",
       "      <td>418</td>\n",
       "      <td>2</td>\n",
       "      <td>363</td>\n",
       "      <td>76</td>\n",
       "      <td>3</td>\n",
       "    </tr>\n",
       "    <tr>\n",
       "      <th>top</th>\n",
       "      <td>Louch, Mr. Charles Alexander</td>\n",
       "      <td>male</td>\n",
       "      <td>PC 17608</td>\n",
       "      <td>B57 B59 B63 B66</td>\n",
       "      <td>S</td>\n",
       "    </tr>\n",
       "    <tr>\n",
       "      <th>freq</th>\n",
       "      <td>1</td>\n",
       "      <td>266</td>\n",
       "      <td>5</td>\n",
       "      <td>3</td>\n",
       "      <td>270</td>\n",
       "    </tr>\n",
       "  </tbody>\n",
       "</table>\n",
       "</div>"
      ],
      "text/plain": [
       "                                Name   Sex    Ticket            Cabin Embarked\n",
       "count                            418   418       418               91      418\n",
       "unique                           418     2       363               76        3\n",
       "top     Louch, Mr. Charles Alexander  male  PC 17608  B57 B59 B63 B66        S\n",
       "freq                               1   266         5                3      270"
      ]
     },
     "execution_count": 13,
     "metadata": {},
     "output_type": "execute_result"
    }
   ],
   "source": [
    "test.describe(include = ['O'])"
   ]
  },
  {
   "cell_type": "markdown",
   "id": "d91b16c8",
   "metadata": {},
   "source": [
    "# Exploratory Data Analysis\n",
    "\n",
    "## Univariate Analysis\n",
    "Check distribution of every variable"
   ]
  },
  {
   "cell_type": "code",
   "execution_count": 14,
   "id": "0487bbfa",
   "metadata": {},
   "outputs": [],
   "source": [
    "# # Plot distributions for each variable\n",
    "# numerical = ['SibSp' , 'Parch', 'Fare', 'PassengerId',  'Age']\n",
    "# categorical = ['Cabin', 'Embarked', 'Pclass', 'Ticket', 'Sex']\n",
    "\n",
    "# fig, axes = plt.subplots(5, 2, figsize = (15,25))\n",
    "# plt.suptitle(\"Train vs Test Distribution\")\n",
    "# for predictor, position in zip(numerical, [0,1,2,3,4]):\n",
    "    \n",
    "#     \"\"\"Distribution of train and test\"\"\"\n",
    "    \n",
    "#     b = sns.histplot(ax = axes[position, 0], data = train, x = predictor, color = 'darkblue', kde = True, \n",
    "#                      bins = 20)\n",
    "#     axes[position, 0].set_title('Train')\n",
    "    \n",
    "#     a = sns.histplot(ax = axes[position, 1], data = test, x = predictor, color = 'orange', kde = True, \n",
    "#                      bins = 20)\n",
    "#     axes[position, 1].set_title('Test')"
   ]
  },
  {
   "cell_type": "markdown",
   "id": "2a98be62",
   "metadata": {},
   "source": [
    "#### Distribution of numerical variables\n",
    "- `SibSp`, `Parch` and `Fare` does not have a normal distribution, might need to remove outliers and do a log transformation on them.\n",
    "- `PassengerId`, no useful information to the data, drop them.\n",
    "- `Age`, slightly skewed distribution, might need to normalize them."
   ]
  },
  {
   "cell_type": "code",
   "execution_count": 15,
   "id": "20ec25a2",
   "metadata": {},
   "outputs": [],
   "source": [
    "# # Plot distributions for each variable\n",
    "# fig, axes = plt.subplots(5, 2, figsize = (15,25))\n",
    "# plt.suptitle(\"Train vs Test Distribution\")\n",
    "# for predictor, position in zip(categorical, [0,1,2,3,4]):\n",
    "    \n",
    "#     \"\"\"Distribution of train and test\"\"\"\n",
    "    \n",
    "#     b = sns.countplot(ax = axes[position, 0], data = train, x = predictor, color = 'darkblue')\n",
    "#     axes[position, 0].set_title('Train')\n",
    "    \n",
    "#     a = sns.countplot(ax = axes[position, 1], data = test, x = predictor, color = 'orange')\n",
    "#     axes[position, 1].set_title('Test')"
   ]
  },
  {
   "cell_type": "markdown",
   "id": "52e429a8",
   "metadata": {},
   "source": [
    "#### Distribution of categorical variables\n",
    "- `Cabin` and `Tickets` have too many unique counts, drop them.\n",
    "- `Embarked` , most people boarded at Southampton.\n",
    "- `Pclass`, most people are in Pclass 3 followed by 1 then 2.\n",
    "- `Sex`, more males than females."
   ]
  },
  {
   "cell_type": "code",
   "execution_count": 16,
   "id": "e0b172e6",
   "metadata": {},
   "outputs": [],
   "source": [
    "# Drop 'Cabin', 'Tickets' and 'PassengerId'\n",
    "train.drop(columns = ['Cabin', 'Ticket', 'PassengerId'], axis = 'columns', inplace = True)\n",
    "\n",
    "# Save PassengerId for submission purposes\n",
    "test_id = test[['PassengerId']]\n",
    "test.drop(columns = ['Cabin', 'Ticket', 'PassengerId'], axis = 'columns', inplace = True)"
   ]
  },
  {
   "cell_type": "code",
   "execution_count": 17,
   "id": "30eae5bb",
   "metadata": {},
   "outputs": [
    {
     "name": "stdout",
     "output_type": "stream",
     "text": [
      "Shape of Train set (raw) : (891, 9)\n",
      "Shape of Test set (raw) : (418, 8)\n"
     ]
    }
   ],
   "source": [
    "# Shape of Data\n",
    "print(f\"Shape of Train set (raw) : {train.shape}\")\n",
    "print(f\"Shape of Test set (raw) : {test.shape}\")"
   ]
  },
  {
   "cell_type": "markdown",
   "id": "9232606b",
   "metadata": {},
   "source": [
    "## Basic Data Analysis\n",
    "- `Age` : Fill missing values with median of titles and regroup them `AgeRange`\n",
    "- Group `Parch` + `SibSp` + 1 = `familysize` vs survival rate\n",
    "- Remove outliers for `Fare` and `familysize`\n",
    "- `Name` : split into titles, check if titles have a relationship with `Survived`\n",
    "- `Age` : check the age distribution across the different titles, if every title have a similar age range, then impute age missing values with title. If every title have very different age ranges, then impute age missing values with average age from each Pclass."
   ]
  },
  {
   "cell_type": "markdown",
   "id": "7b805472",
   "metadata": {},
   "source": [
    "#### Names"
   ]
  },
  {
   "cell_type": "code",
   "execution_count": 18,
   "id": "a5d5bc63",
   "metadata": {},
   "outputs": [
    {
     "name": "stdout",
     "output_type": "stream",
     "text": [
      "Mr          517\n",
      "Miss        182\n",
      "Mrs         125\n",
      "Master       40\n",
      "Dr            7\n",
      "Rev           6\n",
      "Major         2\n",
      "Col           2\n",
      "Mlle          2\n",
      "Sir           1\n",
      "Jonkheer      1\n",
      "Ms            1\n",
      "Countess      1\n",
      "Mme           1\n",
      "Lady          1\n",
      "Don           1\n",
      "Capt          1\n",
      "Name: Title, dtype: int64\n",
      "Mr        240\n",
      "Miss       78\n",
      "Mrs        72\n",
      "Master     21\n",
      "Col         2\n",
      "Rev         2\n",
      "Ms          1\n",
      "Dona        1\n",
      "Dr          1\n",
      "Name: Title, dtype: int64\n"
     ]
    }
   ],
   "source": [
    "# Extract titles from training data and test data\n",
    "train['Title'] = train['Name'].str.extract(' ([A-Za-z]+)\\.', expand=False)\n",
    "test['Title'] = test['Name'].str.extract(' ([A-Za-z]+)\\.', expand=False)\n",
    "\n",
    "# Check the unique titles given\n",
    "print(train['Title'].value_counts())\n",
    "print(test['Title'].value_counts())"
   ]
  },
  {
   "cell_type": "code",
   "execution_count": 19,
   "id": "96c238e5",
   "metadata": {},
   "outputs": [
    {
     "name": "stdout",
     "output_type": "stream",
     "text": [
      "Mr        517\n",
      "Miss      183\n",
      "Mrs       126\n",
      "Master     40\n",
      "others     25\n",
      "Name: Title, dtype: int64\n",
      "Mr        240\n",
      "Miss       79\n",
      "Mrs        72\n",
      "Master     21\n",
      "others      6\n",
      "Name: Title, dtype: int64\n"
     ]
    }
   ],
   "source": [
    "# Group rare groups together, replace Ms with Miss\n",
    "train['Title'] = train['Title'].replace(['Countess', 'Capt', 'Rev', 'Col', 'Don', 'Dr', 'Jonkheer', 'Lady', 'Major', 'Sir', 'Dona', 'Mlle'], \n",
    "                       'others')\n",
    "train['Title'] = train['Title'].replace('Ms', 'Miss')\n",
    "train['Title'] = train['Title'].replace('Mme', 'Mrs')\n",
    "\n",
    "\n",
    "test['Title'] = test['Title'].replace(['Countess', 'Capt', 'Rev', 'Col', 'Don', 'Dr', 'Jonkheer', 'Lady', 'Major', \n",
    "                                       'Sir', 'Dona', 'Mlle'], 'others')\n",
    "test['Title'] = test['Title'].replace('Ms', 'Miss')\n",
    "\n",
    "# Check the unique titles given\n",
    "print(train['Title'].value_counts())\n",
    "print(test['Title'].value_counts())"
   ]
  },
  {
   "cell_type": "code",
   "execution_count": 20,
   "id": "3131f7e9",
   "metadata": {},
   "outputs": [
    {
     "data": {
      "text/html": [
       "<div>\n",
       "<style scoped>\n",
       "    .dataframe tbody tr th:only-of-type {\n",
       "        vertical-align: middle;\n",
       "    }\n",
       "\n",
       "    .dataframe tbody tr th {\n",
       "        vertical-align: top;\n",
       "    }\n",
       "\n",
       "    .dataframe thead th {\n",
       "        text-align: right;\n",
       "    }\n",
       "</style>\n",
       "<table border=\"1\" class=\"dataframe\">\n",
       "  <thead>\n",
       "    <tr style=\"text-align: right;\">\n",
       "      <th></th>\n",
       "      <th>Title</th>\n",
       "      <th>Survived</th>\n",
       "    </tr>\n",
       "  </thead>\n",
       "  <tbody>\n",
       "    <tr>\n",
       "      <th>0</th>\n",
       "      <td>Master</td>\n",
       "      <td>0.575000</td>\n",
       "    </tr>\n",
       "    <tr>\n",
       "      <th>1</th>\n",
       "      <td>Miss</td>\n",
       "      <td>0.699454</td>\n",
       "    </tr>\n",
       "    <tr>\n",
       "      <th>2</th>\n",
       "      <td>Mr</td>\n",
       "      <td>0.156673</td>\n",
       "    </tr>\n",
       "    <tr>\n",
       "      <th>3</th>\n",
       "      <td>Mrs</td>\n",
       "      <td>0.793651</td>\n",
       "    </tr>\n",
       "    <tr>\n",
       "      <th>4</th>\n",
       "      <td>others</td>\n",
       "      <td>0.400000</td>\n",
       "    </tr>\n",
       "  </tbody>\n",
       "</table>\n",
       "</div>"
      ],
      "text/plain": [
       "    Title  Survived\n",
       "0  Master  0.575000\n",
       "1    Miss  0.699454\n",
       "2      Mr  0.156673\n",
       "3     Mrs  0.793651\n",
       "4  others  0.400000"
      ]
     },
     "execution_count": 20,
     "metadata": {},
     "output_type": "execute_result"
    }
   ],
   "source": [
    "# Check Survived\n",
    "train[['Title', 'Survived']].groupby(['Title'], as_index=False).mean()"
   ]
  },
  {
   "cell_type": "code",
   "execution_count": 21,
   "id": "adb47900",
   "metadata": {},
   "outputs": [],
   "source": [
    "# Create mapping\n",
    "title_dict = {'Mr': 1, 'Miss': 2, 'Mrs': 3, 'Master' : 4, 'others': 5}\n",
    "\n",
    "# Map\n",
    "train['Title'] = train['Title'].map(title_dict).astype(int)\n",
    "test['Title'] = test['Title'].map(title_dict).astype(int)"
   ]
  },
  {
   "cell_type": "code",
   "execution_count": 22,
   "id": "aa46bb26",
   "metadata": {},
   "outputs": [],
   "source": [
    "# Drop name in test and train\n",
    "train.drop('Name', axis = 'columns', inplace = True)\n",
    "test.drop('Name', axis = 'columns', inplace = True)"
   ]
  },
  {
   "cell_type": "code",
   "execution_count": 23,
   "id": "198d8ac2",
   "metadata": {},
   "outputs": [
    {
     "data": {
      "text/html": [
       "<div>\n",
       "<style scoped>\n",
       "    .dataframe tbody tr th:only-of-type {\n",
       "        vertical-align: middle;\n",
       "    }\n",
       "\n",
       "    .dataframe tbody tr th {\n",
       "        vertical-align: top;\n",
       "    }\n",
       "\n",
       "    .dataframe thead th {\n",
       "        text-align: right;\n",
       "    }\n",
       "</style>\n",
       "<table border=\"1\" class=\"dataframe\">\n",
       "  <thead>\n",
       "    <tr style=\"text-align: right;\">\n",
       "      <th></th>\n",
       "      <th>Survived</th>\n",
       "      <th>Pclass</th>\n",
       "      <th>Sex</th>\n",
       "      <th>Age</th>\n",
       "      <th>SibSp</th>\n",
       "      <th>Parch</th>\n",
       "      <th>Fare</th>\n",
       "      <th>Embarked</th>\n",
       "      <th>Title</th>\n",
       "    </tr>\n",
       "  </thead>\n",
       "  <tbody>\n",
       "    <tr>\n",
       "      <th>0</th>\n",
       "      <td>0</td>\n",
       "      <td>3</td>\n",
       "      <td>male</td>\n",
       "      <td>22.0</td>\n",
       "      <td>1</td>\n",
       "      <td>0</td>\n",
       "      <td>7.2500</td>\n",
       "      <td>S</td>\n",
       "      <td>1</td>\n",
       "    </tr>\n",
       "    <tr>\n",
       "      <th>1</th>\n",
       "      <td>1</td>\n",
       "      <td>1</td>\n",
       "      <td>female</td>\n",
       "      <td>38.0</td>\n",
       "      <td>1</td>\n",
       "      <td>0</td>\n",
       "      <td>71.2833</td>\n",
       "      <td>C</td>\n",
       "      <td>3</td>\n",
       "    </tr>\n",
       "    <tr>\n",
       "      <th>2</th>\n",
       "      <td>1</td>\n",
       "      <td>3</td>\n",
       "      <td>female</td>\n",
       "      <td>26.0</td>\n",
       "      <td>0</td>\n",
       "      <td>0</td>\n",
       "      <td>7.9250</td>\n",
       "      <td>S</td>\n",
       "      <td>2</td>\n",
       "    </tr>\n",
       "    <tr>\n",
       "      <th>3</th>\n",
       "      <td>1</td>\n",
       "      <td>1</td>\n",
       "      <td>female</td>\n",
       "      <td>35.0</td>\n",
       "      <td>1</td>\n",
       "      <td>0</td>\n",
       "      <td>53.1000</td>\n",
       "      <td>S</td>\n",
       "      <td>3</td>\n",
       "    </tr>\n",
       "    <tr>\n",
       "      <th>4</th>\n",
       "      <td>0</td>\n",
       "      <td>3</td>\n",
       "      <td>male</td>\n",
       "      <td>35.0</td>\n",
       "      <td>0</td>\n",
       "      <td>0</td>\n",
       "      <td>8.0500</td>\n",
       "      <td>S</td>\n",
       "      <td>1</td>\n",
       "    </tr>\n",
       "  </tbody>\n",
       "</table>\n",
       "</div>"
      ],
      "text/plain": [
       "   Survived  Pclass     Sex   Age  SibSp  Parch     Fare Embarked  Title\n",
       "0         0       3    male  22.0      1      0   7.2500        S      1\n",
       "1         1       1  female  38.0      1      0  71.2833        C      3\n",
       "2         1       3  female  26.0      0      0   7.9250        S      2\n",
       "3         1       1  female  35.0      1      0  53.1000        S      3\n",
       "4         0       3    male  35.0      0      0   8.0500        S      1"
      ]
     },
     "execution_count": 23,
     "metadata": {},
     "output_type": "execute_result"
    }
   ],
   "source": [
    "train.head()"
   ]
  },
  {
   "cell_type": "markdown",
   "id": "264162cf",
   "metadata": {},
   "source": [
    "#### Age"
   ]
  },
  {
   "cell_type": "code",
   "execution_count": 24,
   "id": "10f8615c",
   "metadata": {},
   "outputs": [
    {
     "name": "stdout",
     "output_type": "stream",
     "text": [
      "Shape of Train set (raw) : (891, 9)\n",
      "Shape of Test set (raw) : (418, 8)\n"
     ]
    }
   ],
   "source": [
    "# Shape of Data\n",
    "print(f\"Shape of Train set (raw) : {train.shape}\")\n",
    "print(f\"Shape of Test set (raw) : {test.shape}\")"
   ]
  },
  {
   "cell_type": "code",
   "execution_count": 25,
   "id": "fe32ad6b",
   "metadata": {},
   "outputs": [
    {
     "name": "stdout",
     "output_type": "stream",
     "text": [
      "Mean\n",
      "   Title        Age\n",
      "0      1  32.368090\n",
      "1      2  21.816327\n",
      "2      3  35.788991\n",
      "3      4   4.574167\n",
      "4      5  43.750000\n",
      "Std\n",
      "   Title        Age\n",
      "0      1  12.708793\n",
      "1      2  12.955909\n",
      "2      3  11.437490\n",
      "3      4   3.619872\n",
      "4      5  12.796909\n"
     ]
    }
   ],
   "source": [
    "# Check age across titles\n",
    "print('Mean')\n",
    "print(train[['Title', 'Age']].groupby(['Title'], as_index=False).mean())\n",
    "print('Std')\n",
    "print(train[['Title', 'Age']].groupby(['Title'], as_index=False).std())"
   ]
  },
  {
   "cell_type": "code",
   "execution_count": 26,
   "id": "80a87465",
   "metadata": {},
   "outputs": [
    {
     "name": "stdout",
     "output_type": "stream",
     "text": [
      "Median\n",
      "   Title   Age\n",
      "0      1  30.0\n",
      "1      2  21.0\n",
      "2      3  35.0\n",
      "3      4   3.5\n",
      "4      5  46.5\n",
      "Std\n",
      "   Title        Age\n",
      "0      1  12.708793\n",
      "1      2  12.955909\n",
      "2      3  11.437490\n",
      "3      4   3.619872\n",
      "4      5  12.796909\n"
     ]
    }
   ],
   "source": [
    "# Check age across titles\n",
    "print('Median')\n",
    "print(train[['Title', 'Age']].groupby(['Title'], as_index=False).median())\n",
    "print('Std')\n",
    "print(train[['Title', 'Age']].groupby(['Title'], as_index=False).std())"
   ]
  },
  {
   "cell_type": "code",
   "execution_count": 27,
   "id": "7a4db82d",
   "metadata": {},
   "outputs": [
    {
     "name": "stdout",
     "output_type": "stream",
     "text": [
      "Mean\n",
      "   Pclass     Sex        Age\n",
      "0       1  female  34.611765\n",
      "1       1    male  41.281386\n",
      "2       2  female  28.722973\n",
      "3       2    male  30.740707\n",
      "4       3  female  21.750000\n",
      "5       3    male  26.507589\n",
      "Std\n",
      "   Pclass     Sex        Age\n",
      "0       1  female  13.612052\n",
      "1       1    male  15.139570\n",
      "2       2  female  12.872702\n",
      "3       2    male  14.793894\n",
      "4       3  female  12.729964\n",
      "5       3    male  12.159514\n"
     ]
    }
   ],
   "source": [
    "# Check age across sex and pclass\n",
    "print('Mean')\n",
    "print(train[['Age', 'Pclass', 'Sex']].groupby(['Pclass', 'Sex'], as_index=False).mean())\n",
    "print('Std')\n",
    "print(train[['Age', 'Pclass', 'Sex']].groupby(['Pclass', 'Sex'], as_index=False).std())"
   ]
  },
  {
   "cell_type": "markdown",
   "id": "b8ce53d4",
   "metadata": {},
   "source": [
    "Seen from the two codes, the standard deviation and hence variance of the age is smaller if I impute the missing values according to the titles and not the Pclass and Sex. Hence, I will impute missing values of age by median of titles (not mean because distribution of age is slightly skewed)."
   ]
  },
  {
   "cell_type": "code",
   "execution_count": 28,
   "id": "74ae70b9",
   "metadata": {},
   "outputs": [
    {
     "name": "stdout",
     "output_type": "stream",
     "text": [
      "Shape of Train set (raw) : (891, 9)\n",
      "Shape of Test set (raw) : (418, 8)\n"
     ]
    }
   ],
   "source": [
    "# Shape of Data\n",
    "print(f\"Shape of Train set (raw) : {train.shape}\")\n",
    "print(f\"Shape of Test set (raw) : {test.shape}\")"
   ]
  },
  {
   "cell_type": "code",
   "execution_count": 29,
   "id": "786a61ad",
   "metadata": {},
   "outputs": [
    {
     "data": {
      "text/plain": [
       "Survived      0\n",
       "Pclass        0\n",
       "Sex           0\n",
       "Age         177\n",
       "SibSp         0\n",
       "Parch         0\n",
       "Fare          0\n",
       "Embarked      2\n",
       "Title         0\n",
       "dtype: int64"
      ]
     },
     "execution_count": 29,
     "metadata": {},
     "output_type": "execute_result"
    }
   ],
   "source": [
    "train.isna().sum()"
   ]
  },
  {
   "cell_type": "code",
   "execution_count": 30,
   "id": "c52f0f2f",
   "metadata": {},
   "outputs": [
    {
     "name": "stderr",
     "output_type": "stream",
     "text": [
      "/Users/cheongkyler/opt/anaconda3/lib/python3.8/site-packages/pandas/core/indexing.py:1637: SettingWithCopyWarning: \n",
      "A value is trying to be set on a copy of a slice from a DataFrame\n",
      "\n",
      "See the caveats in the documentation: https://pandas.pydata.org/pandas-docs/stable/user_guide/indexing.html#returning-a-view-versus-a-copy\n",
      "  self._setitem_single_block(indexer, value, name)\n"
     ]
    }
   ],
   "source": [
    "# index of missing age\n",
    "index_NA_age = list(train[\"Age\"][train[\"Age\"].isnull()].index)\n",
    "\n",
    "# impute table\n",
    "impute_table = train[['Title', 'Age']].groupby(['Title'], as_index=False).median()\n",
    "impute_table_mean = train[['Title', 'Age']].groupby(['Title'], as_index=False).mean()\n",
    "impute_table_std = train[['Title', 'Age']].groupby(['Title'], as_index=False).std()\n",
    "\n",
    "# impute with missing value\n",
    "for i in range(len(train)):\n",
    "    if train['Age'].iloc[i] != train['Age'].iloc[i]:\n",
    "        title_v = train.iloc[i]['Title'] # title of missing value\n",
    "        #print(f\"{title_v} -> value of Title at index {i}\")\n",
    "    \n",
    "        avg = impute_table_mean.iloc[title_v-1, 1] # mean age\n",
    "        sd = impute_table_std.iloc[title_v-1, 1] # sd age\n",
    "        lower = (avg - sd).astype(int)\n",
    "        upper = (avg + sd).astype(int) \n",
    "    \n",
    "        v_toImpute = random.randint(lower, upper)\n",
    "    \n",
    "        train['Age'].iloc[i] = v_toImpute"
   ]
  },
  {
   "cell_type": "code",
   "execution_count": 31,
   "id": "80af7d8f",
   "metadata": {},
   "outputs": [
    {
     "data": {
      "text/plain": [
       "Survived    0\n",
       "Pclass      0\n",
       "Sex         0\n",
       "Age         0\n",
       "SibSp       0\n",
       "Parch       0\n",
       "Fare        0\n",
       "Embarked    2\n",
       "Title       0\n",
       "dtype: int64"
      ]
     },
     "execution_count": 31,
     "metadata": {},
     "output_type": "execute_result"
    }
   ],
   "source": [
    "train.isna().sum()"
   ]
  },
  {
   "cell_type": "code",
   "execution_count": 32,
   "id": "b4a7e3ea",
   "metadata": {},
   "outputs": [
    {
     "data": {
      "text/plain": [
       "Pclass       0\n",
       "Sex          0\n",
       "Age         86\n",
       "SibSp        0\n",
       "Parch        0\n",
       "Fare         1\n",
       "Embarked     0\n",
       "Title        0\n",
       "dtype: int64"
      ]
     },
     "execution_count": 32,
     "metadata": {},
     "output_type": "execute_result"
    }
   ],
   "source": [
    "test.isna().sum()"
   ]
  },
  {
   "cell_type": "code",
   "execution_count": 33,
   "id": "859ebc9f",
   "metadata": {},
   "outputs": [],
   "source": [
    "# fill missing values of age for test\n",
    "# index of missing age\n",
    "index_NA_age = list(test[\"Age\"][test[\"Age\"].isnull()].index)\n",
    "\n",
    "# impute table\n",
    "impute_table = test[['Title', 'Age']].groupby(['Title'], as_index=False).median()\n",
    "impute_table_mean = test[['Title', 'Age']].groupby(['Title'], as_index=False).mean()\n",
    "impute_table_std = test[['Title', 'Age']].groupby(['Title'], as_index=False).std()\n",
    "\n",
    "# impute with missing value\n",
    "for i in range(len(test)):\n",
    "    if test['Age'].iloc[i] != test['Age'].iloc[i]:\n",
    "        title_v = test.iloc[i]['Title'] # title of missing value\n",
    "        #print(f\"{title_v} -> value of Title at index {i}\")\n",
    "    \n",
    "        avg = impute_table_mean.iloc[title_v-1, 1] # mean age\n",
    "        sd = impute_table_std.iloc[title_v-1, 1] # sd age\n",
    "        lower = (avg - sd).astype(int)\n",
    "        upper = (avg + sd).astype(int) \n",
    "    \n",
    "        v_toImpute = random.randint(lower, upper)\n",
    "    \n",
    "        test['Age'].iloc[i] = v_toImpute"
   ]
  },
  {
   "cell_type": "code",
   "execution_count": 34,
   "id": "863a7da8",
   "metadata": {},
   "outputs": [
    {
     "data": {
      "text/plain": [
       "Pclass      0\n",
       "Sex         0\n",
       "Age         0\n",
       "SibSp       0\n",
       "Parch       0\n",
       "Fare        1\n",
       "Embarked    0\n",
       "Title       0\n",
       "dtype: int64"
      ]
     },
     "execution_count": 34,
     "metadata": {},
     "output_type": "execute_result"
    }
   ],
   "source": [
    "test.isna().sum()"
   ]
  },
  {
   "cell_type": "markdown",
   "id": "62ee5adc",
   "metadata": {},
   "source": [
    "#### Split Age Range"
   ]
  },
  {
   "cell_type": "code",
   "execution_count": 35,
   "id": "5660f807",
   "metadata": {},
   "outputs": [
    {
     "data": {
      "text/html": [
       "<div>\n",
       "<style scoped>\n",
       "    .dataframe tbody tr th:only-of-type {\n",
       "        vertical-align: middle;\n",
       "    }\n",
       "\n",
       "    .dataframe tbody tr th {\n",
       "        vertical-align: top;\n",
       "    }\n",
       "\n",
       "    .dataframe thead th {\n",
       "        text-align: right;\n",
       "    }\n",
       "</style>\n",
       "<table border=\"1\" class=\"dataframe\">\n",
       "  <thead>\n",
       "    <tr style=\"text-align: right;\">\n",
       "      <th></th>\n",
       "      <th>AgeRange</th>\n",
       "      <th>Survived</th>\n",
       "    </tr>\n",
       "  </thead>\n",
       "  <tbody>\n",
       "    <tr>\n",
       "      <th>0</th>\n",
       "      <td>(0.34, 16.336]</td>\n",
       "      <td>0.555556</td>\n",
       "    </tr>\n",
       "    <tr>\n",
       "      <th>1</th>\n",
       "      <td>(16.336, 32.252]</td>\n",
       "      <td>0.364269</td>\n",
       "    </tr>\n",
       "    <tr>\n",
       "      <th>2</th>\n",
       "      <td>(32.252, 48.168]</td>\n",
       "      <td>0.338403</td>\n",
       "    </tr>\n",
       "    <tr>\n",
       "      <th>3</th>\n",
       "      <td>(48.168, 64.084]</td>\n",
       "      <td>0.434783</td>\n",
       "    </tr>\n",
       "    <tr>\n",
       "      <th>4</th>\n",
       "      <td>(64.084, 80.0]</td>\n",
       "      <td>0.090909</td>\n",
       "    </tr>\n",
       "  </tbody>\n",
       "</table>\n",
       "</div>"
      ],
      "text/plain": [
       "           AgeRange  Survived\n",
       "0    (0.34, 16.336]  0.555556\n",
       "1  (16.336, 32.252]  0.364269\n",
       "2  (32.252, 48.168]  0.338403\n",
       "3  (48.168, 64.084]  0.434783\n",
       "4    (64.084, 80.0]  0.090909"
      ]
     },
     "execution_count": 35,
     "metadata": {},
     "output_type": "execute_result"
    }
   ],
   "source": [
    "# Split into Age Range\n",
    "train['AgeRange'] = pd.cut(train['Age'], 5)\n",
    "train[['AgeRange', 'Survived']].groupby(['AgeRange'], as_index=False).mean().sort_values(by='AgeRange', \n",
    "                                                                                         ascending=True)"
   ]
  },
  {
   "cell_type": "code",
   "execution_count": 36,
   "id": "056f0f14",
   "metadata": {},
   "outputs": [],
   "source": [
    "# Convert Age to age range for train\n",
    "train.loc[(train['Age'] <= 16), 'Age'] = 0\n",
    "train.loc[(train['Age'] <= 32)  & (train['Age'] > 16), 'Age'] = 1\n",
    "train.loc[(train['Age'] <= 48)  & (train['Age'] > 32), 'Age'] = 2\n",
    "train.loc[(train['Age'] <= 64)  & (train['Age'] > 48), 'Age'] = 3\n",
    "train.loc[(train['Age'] > 64), 'Age'] = 4\n",
    "\n",
    "train['Age'] = train['Age'].astype(int)"
   ]
  },
  {
   "cell_type": "code",
   "execution_count": 37,
   "id": "1da1f977",
   "metadata": {},
   "outputs": [],
   "source": [
    "# Convert Age to age range for test\n",
    "test.loc[(test['Age'] <= 16), 'Age'] = 0\n",
    "test.loc[(test['Age'] <= 32)  & (test['Age'] > 16), 'Age'] = 1\n",
    "test.loc[(test['Age'] <= 48)  & (test['Age'] > 32), 'Age'] = 2\n",
    "test.loc[(test['Age'] <= 64)  & (test['Age'] > 48), 'Age'] = 3\n",
    "test.loc[(test['Age'] > 64), 'Age'] = 4\n",
    "\n",
    "test['Age'] = test['Age'].astype(int)"
   ]
  },
  {
   "cell_type": "code",
   "execution_count": 38,
   "id": "665455c8",
   "metadata": {},
   "outputs": [],
   "source": [
    "# Drop 'AgeRange'\n",
    "train.drop('AgeRange', axis = 'columns', inplace = True)"
   ]
  },
  {
   "cell_type": "code",
   "execution_count": 39,
   "id": "94775c55",
   "metadata": {},
   "outputs": [],
   "source": [
    "# Create familysize\n",
    "train['familysize'] = train['Parch'] + train['SibSp'] + 1\n",
    "test['familysize'] = test['Parch'] + test['SibSp'] + 1\n",
    "\n",
    "# Drop Parch and SibSp\n",
    "train.drop(columns = ['SibSp', 'Parch'], axis = 'columns', inplace = True)\n",
    "test.drop(columns = ['SibSp', 'Parch'], axis = 'columns', inplace = True)"
   ]
  },
  {
   "cell_type": "code",
   "execution_count": 40,
   "id": "315c01f6",
   "metadata": {},
   "outputs": [
    {
     "name": "stdout",
     "output_type": "stream",
     "text": [
      "Shape of Train set (raw) : (891, 8)\n",
      "Shape of Test set (raw) : (418, 7)\n"
     ]
    }
   ],
   "source": [
    "# Shape of Data\n",
    "print(f\"Shape of Train set (raw) : {train.shape}\")\n",
    "print(f\"Shape of Test set (raw) : {test.shape}\")"
   ]
  },
  {
   "cell_type": "code",
   "execution_count": 41,
   "id": "e9a6c8e5",
   "metadata": {},
   "outputs": [
    {
     "data": {
      "text/plain": [
       "(891, 8)"
      ]
     },
     "execution_count": 41,
     "metadata": {},
     "output_type": "execute_result"
    }
   ],
   "source": [
    "train.shape"
   ]
  },
  {
   "cell_type": "code",
   "execution_count": 42,
   "id": "f51c2a66",
   "metadata": {},
   "outputs": [],
   "source": [
    "# Remove outliers\n",
    "def idxOutliersIQR(df, features):\n",
    "    idxOutliers = {} # feature: list of outlier indexes\n",
    "    \n",
    "    for feature in features:\n",
    "        f_idx = df.columns.get_loc(feature)\n",
    "        idxOutliers[feature] = []\n",
    "        \n",
    "        quantile_25 = np.percentile(df[feature], 25)\n",
    "        quantile_75 = np.percentile(df[feature], 75)\n",
    "        \n",
    "        iqr = quantile_75 - quantile_25\n",
    "        \n",
    "        lower = max(quantile_25 - 1.5*iqr, 0)\n",
    "        upper = quantile_75 + 1.5*iqr\n",
    "        \n",
    "        print(f\"{feature}'s lower bound is {lower}\")\n",
    "        print(f\"{feature}'s upper bound is {upper}\")\n",
    "        \n",
    "        for i in range(len(df)):\n",
    "            if (df.iloc[i, f_idx] < lower) or (df.iloc[i, f_idx] > upper):\n",
    "                idxOutliers[feature].append(i)\n",
    "                \n",
    "    return idxOutliers"
   ]
  },
  {
   "cell_type": "code",
   "execution_count": 43,
   "id": "de3174bf",
   "metadata": {},
   "outputs": [
    {
     "name": "stdout",
     "output_type": "stream",
     "text": [
      "Fare's lower bound is 0\n",
      "Fare's upper bound is 65.6344\n",
      "familysize's lower bound is 0\n",
      "familysize's upper bound is 3.5\n"
     ]
    }
   ],
   "source": [
    "idxOutliers = idxOutliersIQR(train, ['Fare', 'familysize'])"
   ]
  },
  {
   "cell_type": "code",
   "execution_count": 44,
   "id": "5f421a33",
   "metadata": {},
   "outputs": [],
   "source": [
    "def generateIdx(d): # d : dict of idxOutliersIQR\n",
    "    idxOutliersRemoved = []\n",
    "    for key, value in d.items():\n",
    "        for v in value:\n",
    "            if v not in idxOutliersRemoved:\n",
    "                idxOutliersRemoved.append(v)\n",
    "    return idxOutliersRemoved"
   ]
  },
  {
   "cell_type": "code",
   "execution_count": 45,
   "id": "77c67824",
   "metadata": {},
   "outputs": [],
   "source": [
    "idxOutRemoved = generateIdx(idxOutliers)"
   ]
  },
  {
   "cell_type": "code",
   "execution_count": 46,
   "id": "e1a95c81",
   "metadata": {},
   "outputs": [],
   "source": [
    "# drop indexes\n",
    "train.drop(index = idxOutRemoved, axis = 'index', inplace = True)"
   ]
  },
  {
   "cell_type": "code",
   "execution_count": 47,
   "id": "2f7a7fde",
   "metadata": {},
   "outputs": [
    {
     "name": "stdout",
     "output_type": "stream",
     "text": [
      "Shape of Train set (raw) : (704, 8)\n",
      "Shape of Test set (raw) : (418, 7)\n"
     ]
    }
   ],
   "source": [
    "# Shape of Data\n",
    "print(f\"Shape of Train set (raw) : {train.shape}\")\n",
    "print(f\"Shape of Test set (raw) : {test.shape}\")"
   ]
  },
  {
   "cell_type": "code",
   "execution_count": 48,
   "id": "5b8d7e01",
   "metadata": {},
   "outputs": [
    {
     "data": {
      "text/html": [
       "<div>\n",
       "<style scoped>\n",
       "    .dataframe tbody tr th:only-of-type {\n",
       "        vertical-align: middle;\n",
       "    }\n",
       "\n",
       "    .dataframe tbody tr th {\n",
       "        vertical-align: top;\n",
       "    }\n",
       "\n",
       "    .dataframe thead th {\n",
       "        text-align: right;\n",
       "    }\n",
       "</style>\n",
       "<table border=\"1\" class=\"dataframe\">\n",
       "  <thead>\n",
       "    <tr style=\"text-align: right;\">\n",
       "      <th></th>\n",
       "      <th>Survived</th>\n",
       "      <th>Pclass</th>\n",
       "      <th>Age</th>\n",
       "      <th>Fare</th>\n",
       "      <th>Title</th>\n",
       "      <th>familysize</th>\n",
       "    </tr>\n",
       "  </thead>\n",
       "  <tbody>\n",
       "    <tr>\n",
       "      <th>count</th>\n",
       "      <td>704.000000</td>\n",
       "      <td>704.000000</td>\n",
       "      <td>704.000000</td>\n",
       "      <td>704.000000</td>\n",
       "      <td>704.000000</td>\n",
       "      <td>704.000000</td>\n",
       "    </tr>\n",
       "    <tr>\n",
       "      <th>mean</th>\n",
       "      <td>0.342330</td>\n",
       "      <td>2.448864</td>\n",
       "      <td>1.387784</td>\n",
       "      <td>16.484848</td>\n",
       "      <td>1.583807</td>\n",
       "      <td>1.399148</td>\n",
       "    </tr>\n",
       "    <tr>\n",
       "      <th>std</th>\n",
       "      <td>0.474827</td>\n",
       "      <td>0.752577</td>\n",
       "      <td>0.799302</td>\n",
       "      <td>13.129525</td>\n",
       "      <td>0.978471</td>\n",
       "      <td>0.683934</td>\n",
       "    </tr>\n",
       "    <tr>\n",
       "      <th>min</th>\n",
       "      <td>0.000000</td>\n",
       "      <td>1.000000</td>\n",
       "      <td>0.000000</td>\n",
       "      <td>0.000000</td>\n",
       "      <td>1.000000</td>\n",
       "      <td>1.000000</td>\n",
       "    </tr>\n",
       "    <tr>\n",
       "      <th>25%</th>\n",
       "      <td>0.000000</td>\n",
       "      <td>2.000000</td>\n",
       "      <td>1.000000</td>\n",
       "      <td>7.854200</td>\n",
       "      <td>1.000000</td>\n",
       "      <td>1.000000</td>\n",
       "    </tr>\n",
       "    <tr>\n",
       "      <th>50%</th>\n",
       "      <td>0.000000</td>\n",
       "      <td>3.000000</td>\n",
       "      <td>1.000000</td>\n",
       "      <td>10.500000</td>\n",
       "      <td>1.000000</td>\n",
       "      <td>1.000000</td>\n",
       "    </tr>\n",
       "    <tr>\n",
       "      <th>75%</th>\n",
       "      <td>1.000000</td>\n",
       "      <td>3.000000</td>\n",
       "      <td>2.000000</td>\n",
       "      <td>23.250000</td>\n",
       "      <td>2.000000</td>\n",
       "      <td>2.000000</td>\n",
       "    </tr>\n",
       "    <tr>\n",
       "      <th>max</th>\n",
       "      <td>1.000000</td>\n",
       "      <td>3.000000</td>\n",
       "      <td>4.000000</td>\n",
       "      <td>63.358300</td>\n",
       "      <td>5.000000</td>\n",
       "      <td>3.000000</td>\n",
       "    </tr>\n",
       "  </tbody>\n",
       "</table>\n",
       "</div>"
      ],
      "text/plain": [
       "         Survived      Pclass         Age        Fare       Title  familysize\n",
       "count  704.000000  704.000000  704.000000  704.000000  704.000000  704.000000\n",
       "mean     0.342330    2.448864    1.387784   16.484848    1.583807    1.399148\n",
       "std      0.474827    0.752577    0.799302   13.129525    0.978471    0.683934\n",
       "min      0.000000    1.000000    0.000000    0.000000    1.000000    1.000000\n",
       "25%      0.000000    2.000000    1.000000    7.854200    1.000000    1.000000\n",
       "50%      0.000000    3.000000    1.000000   10.500000    1.000000    1.000000\n",
       "75%      1.000000    3.000000    2.000000   23.250000    2.000000    2.000000\n",
       "max      1.000000    3.000000    4.000000   63.358300    5.000000    3.000000"
      ]
     },
     "execution_count": 48,
     "metadata": {},
     "output_type": "execute_result"
    }
   ],
   "source": [
    "train.describe()"
   ]
  },
  {
   "cell_type": "code",
   "execution_count": 49,
   "id": "5b3a9301",
   "metadata": {},
   "outputs": [
    {
     "data": {
      "text/html": [
       "<div>\n",
       "<style scoped>\n",
       "    .dataframe tbody tr th:only-of-type {\n",
       "        vertical-align: middle;\n",
       "    }\n",
       "\n",
       "    .dataframe tbody tr th {\n",
       "        vertical-align: top;\n",
       "    }\n",
       "\n",
       "    .dataframe thead th {\n",
       "        text-align: right;\n",
       "    }\n",
       "</style>\n",
       "<table border=\"1\" class=\"dataframe\">\n",
       "  <thead>\n",
       "    <tr style=\"text-align: right;\">\n",
       "      <th></th>\n",
       "      <th>Pclass</th>\n",
       "      <th>Age</th>\n",
       "      <th>Fare</th>\n",
       "      <th>Title</th>\n",
       "      <th>familysize</th>\n",
       "    </tr>\n",
       "  </thead>\n",
       "  <tbody>\n",
       "    <tr>\n",
       "      <th>count</th>\n",
       "      <td>418.000000</td>\n",
       "      <td>418.000000</td>\n",
       "      <td>417.000000</td>\n",
       "      <td>418.000000</td>\n",
       "      <td>418.000000</td>\n",
       "    </tr>\n",
       "    <tr>\n",
       "      <th>mean</th>\n",
       "      <td>2.265550</td>\n",
       "      <td>1.366029</td>\n",
       "      <td>35.627188</td>\n",
       "      <td>1.741627</td>\n",
       "      <td>1.839713</td>\n",
       "    </tr>\n",
       "    <tr>\n",
       "      <th>std</th>\n",
       "      <td>0.841838</td>\n",
       "      <td>0.817960</td>\n",
       "      <td>55.907576</td>\n",
       "      <td>1.006091</td>\n",
       "      <td>1.519072</td>\n",
       "    </tr>\n",
       "    <tr>\n",
       "      <th>min</th>\n",
       "      <td>1.000000</td>\n",
       "      <td>0.000000</td>\n",
       "      <td>0.000000</td>\n",
       "      <td>1.000000</td>\n",
       "      <td>1.000000</td>\n",
       "    </tr>\n",
       "    <tr>\n",
       "      <th>25%</th>\n",
       "      <td>1.000000</td>\n",
       "      <td>1.000000</td>\n",
       "      <td>7.895800</td>\n",
       "      <td>1.000000</td>\n",
       "      <td>1.000000</td>\n",
       "    </tr>\n",
       "    <tr>\n",
       "      <th>50%</th>\n",
       "      <td>3.000000</td>\n",
       "      <td>1.000000</td>\n",
       "      <td>14.454200</td>\n",
       "      <td>1.000000</td>\n",
       "      <td>1.000000</td>\n",
       "    </tr>\n",
       "    <tr>\n",
       "      <th>75%</th>\n",
       "      <td>3.000000</td>\n",
       "      <td>2.000000</td>\n",
       "      <td>31.500000</td>\n",
       "      <td>2.000000</td>\n",
       "      <td>2.000000</td>\n",
       "    </tr>\n",
       "    <tr>\n",
       "      <th>max</th>\n",
       "      <td>3.000000</td>\n",
       "      <td>4.000000</td>\n",
       "      <td>512.329200</td>\n",
       "      <td>5.000000</td>\n",
       "      <td>11.000000</td>\n",
       "    </tr>\n",
       "  </tbody>\n",
       "</table>\n",
       "</div>"
      ],
      "text/plain": [
       "           Pclass         Age        Fare       Title  familysize\n",
       "count  418.000000  418.000000  417.000000  418.000000  418.000000\n",
       "mean     2.265550    1.366029   35.627188    1.741627    1.839713\n",
       "std      0.841838    0.817960   55.907576    1.006091    1.519072\n",
       "min      1.000000    0.000000    0.000000    1.000000    1.000000\n",
       "25%      1.000000    1.000000    7.895800    1.000000    1.000000\n",
       "50%      3.000000    1.000000   14.454200    1.000000    1.000000\n",
       "75%      3.000000    2.000000   31.500000    2.000000    2.000000\n",
       "max      3.000000    4.000000  512.329200    5.000000   11.000000"
      ]
     },
     "execution_count": 49,
     "metadata": {},
     "output_type": "execute_result"
    }
   ],
   "source": [
    "test.describe()"
   ]
  },
  {
   "cell_type": "markdown",
   "id": "f60bdf19",
   "metadata": {},
   "source": [
    "## Feature Engineering\n",
    "- `Fare` : apply log transformation and split into ranges\n",
    "- `Embarked` : change to OHE"
   ]
  },
  {
   "cell_type": "markdown",
   "id": "4465cf50",
   "metadata": {},
   "source": [
    "#### Fare"
   ]
  },
  {
   "cell_type": "code",
   "execution_count": 50,
   "id": "59a84c76",
   "metadata": {},
   "outputs": [
    {
     "data": {
      "text/plain": [
       "[Text(0.5, 1.0, 'Test')]"
      ]
     },
     "execution_count": 50,
     "metadata": {},
     "output_type": "execute_result"
    },
    {
     "data": {
      "image/png": "[encoded data removed]",
      "text/plain": [
       "<Figure size 864x432 with 2 Axes>"
      ]
     },
     "metadata": {},
     "output_type": "display_data"
    }
   ],
   "source": [
    "# Check distribution\n",
    "sns.set(rc = {'figure.figsize':(12,6)})\n",
    "fig, axes = plt.subplots(1,2)\n",
    "plt.suptitle(\"Fare Distribution\")\n",
    "sns.histplot(x = train['Fare'], kde = True, bins = 20, ax = axes[0], color = 'darkblue').set(title = \"Train\")\n",
    "sns.histplot(x = test['Fare'], kde = True, bins = 20, ax = axes[1], color = 'orange').set(title = \"Test\")"
   ]
  },
  {
   "cell_type": "code",
   "execution_count": 51,
   "id": "8c8e7640",
   "metadata": {},
   "outputs": [],
   "source": [
    "# impute fare with median\n",
    "test['Fare'] = test['Fare'].fillna(test['Fare'].median())"
   ]
  },
  {
   "cell_type": "code",
   "execution_count": 52,
   "id": "fc92d7c4",
   "metadata": {},
   "outputs": [
    {
     "data": {
      "text/html": [
       "<div>\n",
       "<style scoped>\n",
       "    .dataframe tbody tr th:only-of-type {\n",
       "        vertical-align: middle;\n",
       "    }\n",
       "\n",
       "    .dataframe tbody tr th {\n",
       "        vertical-align: top;\n",
       "    }\n",
       "\n",
       "    .dataframe thead th {\n",
       "        text-align: right;\n",
       "    }\n",
       "</style>\n",
       "<table border=\"1\" class=\"dataframe\">\n",
       "  <thead>\n",
       "    <tr style=\"text-align: right;\">\n",
       "      <th></th>\n",
       "      <th>fare_range</th>\n",
       "      <th>Survived</th>\n",
       "    </tr>\n",
       "  </thead>\n",
       "  <tbody>\n",
       "    <tr>\n",
       "      <th>0</th>\n",
       "      <td>(-0.0634, 12.672]</td>\n",
       "      <td>0.232376</td>\n",
       "    </tr>\n",
       "    <tr>\n",
       "      <th>1</th>\n",
       "      <td>(12.672, 25.343]</td>\n",
       "      <td>0.391026</td>\n",
       "    </tr>\n",
       "    <tr>\n",
       "      <th>2</th>\n",
       "      <td>(25.343, 38.015]</td>\n",
       "      <td>0.527273</td>\n",
       "    </tr>\n",
       "    <tr>\n",
       "      <th>3</th>\n",
       "      <td>(38.015, 50.687]</td>\n",
       "      <td>0.357143</td>\n",
       "    </tr>\n",
       "    <tr>\n",
       "      <th>4</th>\n",
       "      <td>(50.687, 63.358]</td>\n",
       "      <td>0.682927</td>\n",
       "    </tr>\n",
       "  </tbody>\n",
       "</table>\n",
       "</div>"
      ],
      "text/plain": [
       "          fare_range  Survived\n",
       "0  (-0.0634, 12.672]  0.232376\n",
       "1   (12.672, 25.343]  0.391026\n",
       "2   (25.343, 38.015]  0.527273\n",
       "3   (38.015, 50.687]  0.357143\n",
       "4   (50.687, 63.358]  0.682927"
      ]
     },
     "execution_count": 52,
     "metadata": {},
     "output_type": "execute_result"
    }
   ],
   "source": [
    "# Split log_fare into ranges\n",
    "train['fare_range'] = pd.cut(train['Fare'], 5)\n",
    "train[['fare_range', 'Survived']].groupby(['fare_range'], as_index=False).mean().sort_values(by='fare_range', \n",
    "                                                                                         ascending=True)"
   ]
  },
  {
   "cell_type": "code",
   "execution_count": 53,
   "id": "68561e55",
   "metadata": {},
   "outputs": [],
   "source": [
    "# # Apply log transformation\n",
    "# train['log_fare'] = np.log1p(train['Fare'])\n",
    "# test['log_fare'] = np.log1p(test['Fare'])\n",
    "\n",
    "# # Drop 'Fare'\n",
    "# train.drop('Fare', axis = 'columns', inplace = True)\n",
    "# test.drop('Fare', axis = 'columns', inplace = True)"
   ]
  },
  {
   "cell_type": "code",
   "execution_count": 54,
   "id": "338c33c0",
   "metadata": {},
   "outputs": [],
   "source": [
    "# # Check distribution\n",
    "# sns.set(rc = {'figure.figsize':(12,6)})\n",
    "# fig, axes = plt.subplots(1,2)\n",
    "# plt.suptitle(\"Log Fare Distribution\")\n",
    "# sns.histplot(x = train['log_fare'], kde = True, bins = 20, ax = axes[0], color = 'darkblue').set(title = \"Train\")\n",
    "# sns.histplot(x = test['log_fare'], kde = True, bins = 20, ax = axes[1], color = 'orange').set(title = \"Test\")"
   ]
  },
  {
   "cell_type": "markdown",
   "id": "fb228954",
   "metadata": {},
   "source": [
    "For this version I will not do a log transformation and just categorize by fare. However, in the next version, it is worth checking if log_fare will do a better job. Uncomment the codes above to see the difference."
   ]
  },
  {
   "cell_type": "code",
   "execution_count": 55,
   "id": "91636dd8",
   "metadata": {},
   "outputs": [],
   "source": [
    "# Convert Fare to fare range for train\n",
    "train.loc[(train['Fare'] <= 13), 'Fare'] = 0\n",
    "train.loc[(train['Fare'] <= 25)  & (train['Fare'] > 13), 'Fare'] = 1\n",
    "train.loc[(train['Fare'] <= 38)  & (train['Fare'] > 25), 'Fare'] = 2\n",
    "train.loc[(train['Fare'] <= 51)  & (train['Fare'] > 38), 'Fare'] = 3\n",
    "train.loc[(train['Fare'] > 51), 'Fare'] = 4\n",
    "\n",
    "train['Fare'] = train['Fare'].astype(int)"
   ]
  },
  {
   "cell_type": "code",
   "execution_count": 56,
   "id": "7fd28164",
   "metadata": {},
   "outputs": [],
   "source": [
    "# Convert Fare to fare range for test\n",
    "test.loc[(test['Fare'] <= 13), 'Fare'] = 0\n",
    "test.loc[(test['Fare'] <= 25)  & (test['Fare'] > 13), 'Fare'] = 1\n",
    "test.loc[(test['Fare'] <= 38)  & (test['Fare'] > 25), 'Fare'] = 2\n",
    "test.loc[(test['Fare'] <= 51)  & (test['Fare'] > 38), 'Fare'] = 3\n",
    "test.loc[(test['Fare'] > 51), 'Fare'] = 4\n",
    "\n",
    "test['Fare'] = test['Fare'].astype(int)"
   ]
  },
  {
   "cell_type": "code",
   "execution_count": 57,
   "id": "eef63198",
   "metadata": {},
   "outputs": [],
   "source": [
    "# drop fare_range\n",
    "train.drop('fare_range', axis = 'columns', inplace = True)"
   ]
  },
  {
   "cell_type": "markdown",
   "id": "bc86c0e6",
   "metadata": {},
   "source": [
    "#### Sex"
   ]
  },
  {
   "cell_type": "code",
   "execution_count": 62,
   "id": "7dc41307",
   "metadata": {},
   "outputs": [],
   "source": [
    "# Use OHE\n",
    "sex_dict = {'male' : 0, 'female' : 1}\n",
    "\n",
    "# Map across train or test data\n",
    "train['sex_ohe'] = train['Sex'].map(sex_dict)\n",
    "test['sex_ohe'] = test['Sex'].map(sex_dict)\n",
    "\n",
    "# Remove ['Sex'] from train and test\n",
    "train.drop(['Sex'], axis = 'columns', inplace = True)\n",
    "test.drop(['Sex'], axis = 'columns', inplace = True)"
   ]
  },
  {
   "cell_type": "markdown",
   "id": "5344a98d",
   "metadata": {},
   "source": [
    "#### Embarked"
   ]
  },
  {
   "cell_type": "code",
   "execution_count": 63,
   "id": "a1059975",
   "metadata": {},
   "outputs": [],
   "source": [
    "# Use dummies to encode it\n",
    "train_embarked_dummies = pd.get_dummies(train['Embarked'])\n",
    "test_embarked_dummies = pd.get_dummies(test['Embarked'])\n",
    "\n",
    "train = pd.concat([train, train_embarked_dummies], axis = 'columns')\n",
    "test = pd.concat([test, test_embarked_dummies], axis = 'columns')\n",
    "\n",
    "# Drop embarked\n",
    "train.drop(['Embarked'], axis = 'columns', inplace = True)\n",
    "test.drop(['Embarked'], axis = 'columns', inplace = True)"
   ]
  },
  {
   "cell_type": "code",
   "execution_count": 66,
   "id": "b82d06b8",
   "metadata": {},
   "outputs": [
    {
     "data": {
      "text/html": [
       "<div>\n",
       "<style scoped>\n",
       "    .dataframe tbody tr th:only-of-type {\n",
       "        vertical-align: middle;\n",
       "    }\n",
       "\n",
       "    .dataframe tbody tr th {\n",
       "        vertical-align: top;\n",
       "    }\n",
       "\n",
       "    .dataframe thead th {\n",
       "        text-align: right;\n",
       "    }\n",
       "</style>\n",
       "<table border=\"1\" class=\"dataframe\">\n",
       "  <thead>\n",
       "    <tr style=\"text-align: right;\">\n",
       "      <th></th>\n",
       "      <th>Pclass</th>\n",
       "      <th>Age</th>\n",
       "      <th>Fare</th>\n",
       "      <th>Title</th>\n",
       "      <th>familysize</th>\n",
       "      <th>sex_ohe</th>\n",
       "      <th>C</th>\n",
       "      <th>Q</th>\n",
       "      <th>S</th>\n",
       "    </tr>\n",
       "  </thead>\n",
       "  <tbody>\n",
       "    <tr>\n",
       "      <th>0</th>\n",
       "      <td>3</td>\n",
       "      <td>2</td>\n",
       "      <td>0</td>\n",
       "      <td>1</td>\n",
       "      <td>1</td>\n",
       "      <td>0</td>\n",
       "      <td>0</td>\n",
       "      <td>1</td>\n",
       "      <td>0</td>\n",
       "    </tr>\n",
       "    <tr>\n",
       "      <th>1</th>\n",
       "      <td>3</td>\n",
       "      <td>2</td>\n",
       "      <td>0</td>\n",
       "      <td>3</td>\n",
       "      <td>2</td>\n",
       "      <td>1</td>\n",
       "      <td>0</td>\n",
       "      <td>0</td>\n",
       "      <td>1</td>\n",
       "    </tr>\n",
       "    <tr>\n",
       "      <th>2</th>\n",
       "      <td>2</td>\n",
       "      <td>3</td>\n",
       "      <td>0</td>\n",
       "      <td>1</td>\n",
       "      <td>1</td>\n",
       "      <td>0</td>\n",
       "      <td>0</td>\n",
       "      <td>1</td>\n",
       "      <td>0</td>\n",
       "    </tr>\n",
       "    <tr>\n",
       "      <th>3</th>\n",
       "      <td>3</td>\n",
       "      <td>1</td>\n",
       "      <td>0</td>\n",
       "      <td>1</td>\n",
       "      <td>1</td>\n",
       "      <td>0</td>\n",
       "      <td>0</td>\n",
       "      <td>0</td>\n",
       "      <td>1</td>\n",
       "    </tr>\n",
       "    <tr>\n",
       "      <th>4</th>\n",
       "      <td>3</td>\n",
       "      <td>1</td>\n",
       "      <td>0</td>\n",
       "      <td>3</td>\n",
       "      <td>3</td>\n",
       "      <td>1</td>\n",
       "      <td>0</td>\n",
       "      <td>0</td>\n",
       "      <td>1</td>\n",
       "    </tr>\n",
       "  </tbody>\n",
       "</table>\n",
       "</div>"
      ],
      "text/plain": [
       "   Pclass  Age  Fare  Title  familysize  sex_ohe  C  Q  S\n",
       "0       3    2     0      1           1        0  0  1  0\n",
       "1       3    2     0      3           2        1  0  0  1\n",
       "2       2    3     0      1           1        0  0  1  0\n",
       "3       3    1     0      1           1        0  0  0  1\n",
       "4       3    1     0      3           3        1  0  0  1"
      ]
     },
     "execution_count": 66,
     "metadata": {},
     "output_type": "execute_result"
    }
   ],
   "source": [
    "test.head()"
   ]
  },
  {
   "cell_type": "code",
   "execution_count": 67,
   "id": "cbe8dfa4",
   "metadata": {},
   "outputs": [
    {
     "data": {
      "text/html": [
       "<div>\n",
       "<style scoped>\n",
       "    .dataframe tbody tr th:only-of-type {\n",
       "        vertical-align: middle;\n",
       "    }\n",
       "\n",
       "    .dataframe tbody tr th {\n",
       "        vertical-align: top;\n",
       "    }\n",
       "\n",
       "    .dataframe thead th {\n",
       "        text-align: right;\n",
       "    }\n",
       "</style>\n",
       "<table border=\"1\" class=\"dataframe\">\n",
       "  <thead>\n",
       "    <tr style=\"text-align: right;\">\n",
       "      <th></th>\n",
       "      <th>Survived</th>\n",
       "      <th>Pclass</th>\n",
       "      <th>Age</th>\n",
       "      <th>Fare</th>\n",
       "      <th>Title</th>\n",
       "      <th>familysize</th>\n",
       "      <th>sex_ohe</th>\n",
       "      <th>C</th>\n",
       "      <th>Q</th>\n",
       "      <th>S</th>\n",
       "    </tr>\n",
       "  </thead>\n",
       "  <tbody>\n",
       "    <tr>\n",
       "      <th>0</th>\n",
       "      <td>0</td>\n",
       "      <td>3</td>\n",
       "      <td>1</td>\n",
       "      <td>0</td>\n",
       "      <td>1</td>\n",
       "      <td>2</td>\n",
       "      <td>0</td>\n",
       "      <td>0</td>\n",
       "      <td>0</td>\n",
       "      <td>1</td>\n",
       "    </tr>\n",
       "    <tr>\n",
       "      <th>2</th>\n",
       "      <td>1</td>\n",
       "      <td>3</td>\n",
       "      <td>1</td>\n",
       "      <td>0</td>\n",
       "      <td>2</td>\n",
       "      <td>1</td>\n",
       "      <td>1</td>\n",
       "      <td>0</td>\n",
       "      <td>0</td>\n",
       "      <td>1</td>\n",
       "    </tr>\n",
       "    <tr>\n",
       "      <th>3</th>\n",
       "      <td>1</td>\n",
       "      <td>1</td>\n",
       "      <td>2</td>\n",
       "      <td>4</td>\n",
       "      <td>3</td>\n",
       "      <td>2</td>\n",
       "      <td>1</td>\n",
       "      <td>0</td>\n",
       "      <td>0</td>\n",
       "      <td>1</td>\n",
       "    </tr>\n",
       "    <tr>\n",
       "      <th>4</th>\n",
       "      <td>0</td>\n",
       "      <td>3</td>\n",
       "      <td>2</td>\n",
       "      <td>0</td>\n",
       "      <td>1</td>\n",
       "      <td>1</td>\n",
       "      <td>0</td>\n",
       "      <td>0</td>\n",
       "      <td>0</td>\n",
       "      <td>1</td>\n",
       "    </tr>\n",
       "    <tr>\n",
       "      <th>5</th>\n",
       "      <td>0</td>\n",
       "      <td>3</td>\n",
       "      <td>1</td>\n",
       "      <td>0</td>\n",
       "      <td>1</td>\n",
       "      <td>1</td>\n",
       "      <td>0</td>\n",
       "      <td>0</td>\n",
       "      <td>1</td>\n",
       "      <td>0</td>\n",
       "    </tr>\n",
       "  </tbody>\n",
       "</table>\n",
       "</div>"
      ],
      "text/plain": [
       "   Survived  Pclass  Age  Fare  Title  familysize  sex_ohe  C  Q  S\n",
       "0         0       3    1     0      1           2        0  0  0  1\n",
       "2         1       3    1     0      2           1        1  0  0  1\n",
       "3         1       1    2     4      3           2        1  0  0  1\n",
       "4         0       3    2     0      1           1        0  0  0  1\n",
       "5         0       3    1     0      1           1        0  0  1  0"
      ]
     },
     "execution_count": 67,
     "metadata": {},
     "output_type": "execute_result"
    }
   ],
   "source": [
    "train.head()"
   ]
  },
  {
   "cell_type": "markdown",
   "id": "a9d57788",
   "metadata": {},
   "source": [
    "# Split Data"
   ]
  },
  {
   "cell_type": "code",
   "execution_count": 71,
   "id": "1e443680",
   "metadata": {},
   "outputs": [],
   "source": [
    "X_train, X_test, y_train, y_test = train_test_split(train.iloc[:, 1:], train.iloc[:, 0], test_size = 0.2,\n",
    "                                                    random_state = 26)"
   ]
  },
  {
   "cell_type": "code",
   "execution_count": 98,
   "id": "822c6ec5",
   "metadata": {},
   "outputs": [],
   "source": [
    "# Models\n",
    "dt = DecisionTreeClassifier(random_state = 26)\n",
    "rf = RandomForestClassifier()\n",
    "knn = KNeighborsClassifier(n_neighbors = 10)\n",
    "xgb = XGBClassifier(booster = 'gbtree')\n",
    "svc = SVC()"
   ]
  },
  {
   "cell_type": "code",
   "execution_count": 73,
   "id": "6cdfd42b",
   "metadata": {},
   "outputs": [],
   "source": [
    "# Print scores\n",
    "def print_score(test, pred):\n",
    "    print(f\"Accuracy : {round(accuracy_score(test, pred), 3)}%\")\n",
    "    print(f\"Recall : {round(recall_score(test, pred), 3)}%\")\n",
    "    print(f\"Precision : {round(precision_score(test, pred), 3)}%\")\n",
    "    print(f\"f1 Score : {round(f1_score(test, pred), 3)}%\")"
   ]
  },
  {
   "cell_type": "markdown",
   "id": "cbaf5a78",
   "metadata": {},
   "source": [
    "# Decision Tree"
   ]
  },
  {
   "cell_type": "code",
   "execution_count": 74,
   "id": "82433a35",
   "metadata": {},
   "outputs": [
    {
     "name": "stdout",
     "output_type": "stream",
     "text": [
      "Accuracy : 0.78%\n",
      "Recall : 0.581%\n",
      "Precision : 0.658%\n",
      "f1 Score : 0.617%\n"
     ]
    }
   ],
   "source": [
    "# fitting the model\n",
    "dt.fit(X_train, y_train)\n",
    "\n",
    "# predictions\n",
    "y_pred = dt.predict(X_test)\n",
    "\n",
    "# print score\n",
    "print_score(y_test, y_pred)"
   ]
  },
  {
   "cell_type": "code",
   "execution_count": 75,
   "id": "4de8c407",
   "metadata": {},
   "outputs": [],
   "source": [
    "# Hyperparameter tuning for DT\n",
    "dt_grid = {'max_depth': [3,4,5,6,7,8], 'min_samples_leaf': [2,4,6,8,10], 'min_samples_split':\n",
    "       [2,3,4,5,6,7,8,9,10]}\n",
    "\n",
    "dt_cv = GridSearchCV(DecisionTreeClassifier(), dt_grid, cv=10, n_jobs=-1, verbose=1)"
   ]
  },
  {
   "cell_type": "code",
   "execution_count": 76,
   "id": "176a67c8",
   "metadata": {},
   "outputs": [
    {
     "name": "stdout",
     "output_type": "stream",
     "text": [
      "Fitting 10 folds for each of 270 candidates, totalling 2700 fits\n"
     ]
    },
    {
     "data": {
      "text/plain": [
       "GridSearchCV(cv=10, estimator=DecisionTreeClassifier(), n_jobs=-1,\n",
       "             param_grid={'max_depth': [3, 4, 5, 6, 7, 8],\n",
       "                         'min_samples_leaf': [2, 4, 6, 8, 10],\n",
       "                         'min_samples_split': [2, 3, 4, 5, 6, 7, 8, 9, 10]},\n",
       "             verbose=1)"
      ]
     },
     "execution_count": 76,
     "metadata": {},
     "output_type": "execute_result"
    }
   ],
   "source": [
    "dt_cv.fit(X_train, y_train)"
   ]
  },
  {
   "cell_type": "code",
   "execution_count": 77,
   "id": "1e7b0ac8",
   "metadata": {},
   "outputs": [
    {
     "data": {
      "text/plain": [
       "{'max_depth': 3, 'min_samples_leaf': 4, 'min_samples_split': 4}"
      ]
     },
     "execution_count": 77,
     "metadata": {},
     "output_type": "execute_result"
    }
   ],
   "source": [
    "dt_cv.best_params_"
   ]
  },
  {
   "cell_type": "code",
   "execution_count": 78,
   "id": "935a533a",
   "metadata": {},
   "outputs": [],
   "source": [
    "best_dt = dt_cv.best_estimator_"
   ]
  },
  {
   "cell_type": "code",
   "execution_count": 79,
   "id": "c3ae7edc",
   "metadata": {},
   "outputs": [
    {
     "name": "stdout",
     "output_type": "stream",
     "text": [
      "Accuracy : 0.801%\n",
      "Recall : 0.698%\n",
      "Precision : 0.667%\n",
      "f1 Score : 0.682%\n"
     ]
    }
   ],
   "source": [
    "# fit the model\n",
    "best_dt.fit(X_train, y_train)\n",
    "\n",
    "# predictions\n",
    "y_pred = best_dt.predict(X_test)\n",
    "\n",
    "# print score\n",
    "print_score(y_test, y_pred)"
   ]
  },
  {
   "cell_type": "markdown",
   "id": "95a7fae0",
   "metadata": {},
   "source": [
    "# Random Forest"
   ]
  },
  {
   "cell_type": "code",
   "execution_count": 80,
   "id": "250df172",
   "metadata": {},
   "outputs": [
    {
     "name": "stdout",
     "output_type": "stream",
     "text": [
      "Accuracy : 0.801%\n",
      "Recall : 0.651%\n",
      "Precision : 0.683%\n",
      "f1 Score : 0.667%\n"
     ]
    }
   ],
   "source": [
    "# fit the model\n",
    "rf.fit(X_train, y_train)\n",
    "\n",
    "# predictions\n",
    "y_pred = rf.predict(X_test)\n",
    "\n",
    "# print score\n",
    "print_score(y_test, y_pred)"
   ]
  },
  {
   "cell_type": "code",
   "execution_count": 81,
   "id": "6aee29ea",
   "metadata": {},
   "outputs": [],
   "source": [
    "# Hyperparameter tuning for rf\n",
    "rf_grid = {'criterion':['gini', 'entropy', 'log_loss'], 'max_depth': [3,4,5,6,7,8], 'min_samples_leaf': [2,3,4,5,6,7,8,9,10],\n",
    "           'min_samples_split': [2,3,4,5,6,7,8,9,10]}\n",
    "\n",
    "rf_cv = GridSearchCV(RandomForestClassifier(), rf_grid, cv=10, n_jobs=-1, verbose=1)"
   ]
  },
  {
   "cell_type": "code",
   "execution_count": 82,
   "id": "52805073",
   "metadata": {},
   "outputs": [
    {
     "name": "stdout",
     "output_type": "stream",
     "text": [
      "Fitting 10 folds for each of 1458 candidates, totalling 14580 fits\n"
     ]
    },
    {
     "name": "stderr",
     "output_type": "stream",
     "text": [
      "/Users/cheongkyler/opt/anaconda3/lib/python3.8/site-packages/sklearn/model_selection/_search.py:918: UserWarning: One or more of the test scores are non-finite: [0.81716792 0.81005639 0.80827068 ...        nan        nan        nan]\n",
      "  warnings.warn(\n"
     ]
    },
    {
     "data": {
      "text/plain": [
       "GridSearchCV(cv=10, estimator=RandomForestClassifier(), n_jobs=-1,\n",
       "             param_grid={'criterion': ['gini', 'entropy', 'log_loss'],\n",
       "                         'max_depth': [3, 4, 5, 6, 7, 8],\n",
       "                         'min_samples_leaf': [2, 3, 4, 5, 6, 7, 8, 9, 10],\n",
       "                         'min_samples_split': [2, 3, 4, 5, 6, 7, 8, 9, 10]},\n",
       "             verbose=1)"
      ]
     },
     "execution_count": 82,
     "metadata": {},
     "output_type": "execute_result"
    }
   ],
   "source": [
    "# fit the model\n",
    "rf_cv.fit(X_train, y_train)"
   ]
  },
  {
   "cell_type": "code",
   "execution_count": 83,
   "id": "3d5d1be3",
   "metadata": {},
   "outputs": [],
   "source": [
    "best_rf = rf_cv.best_estimator_"
   ]
  },
  {
   "cell_type": "code",
   "execution_count": 84,
   "id": "3a3c63e1",
   "metadata": {},
   "outputs": [
    {
     "name": "stdout",
     "output_type": "stream",
     "text": [
      "Accuracy : 0.816%\n",
      "Recall : 0.698%\n",
      "Precision : 0.698%\n",
      "f1 Score : 0.698%\n"
     ]
    }
   ],
   "source": [
    "# fit data\n",
    "best_rf.fit(X_train, y_train)\n",
    "\n",
    "# predict data\n",
    "y_pred = best_rf.predict(X_test)\n",
    "\n",
    "# print score\n",
    "print_score(y_test, y_pred)"
   ]
  },
  {
   "cell_type": "code",
   "execution_count": 85,
   "id": "0aa5f757",
   "metadata": {},
   "outputs": [
    {
     "data": {
      "text/plain": [
       "dict_keys(['bootstrap', 'ccp_alpha', 'class_weight', 'criterion', 'max_depth', 'max_features', 'max_leaf_nodes', 'max_samples', 'min_impurity_decrease', 'min_impurity_split', 'min_samples_leaf', 'min_samples_split', 'min_weight_fraction_leaf', 'n_estimators', 'n_jobs', 'oob_score', 'random_state', 'verbose', 'warm_start'])"
      ]
     },
     "execution_count": 85,
     "metadata": {},
     "output_type": "execute_result"
    }
   ],
   "source": [
    "RandomForestClassifier().get_params().keys()"
   ]
  },
  {
   "cell_type": "markdown",
   "id": "c55bbedc",
   "metadata": {},
   "source": [
    "# K-Nearest Neighbors"
   ]
  },
  {
   "cell_type": "code",
   "execution_count": 86,
   "id": "0875278f",
   "metadata": {},
   "outputs": [
    {
     "name": "stdout",
     "output_type": "stream",
     "text": [
      "Accuracy : 0.794%\n",
      "Recall : 0.605%\n",
      "Precision : 0.684%\n",
      "f1 Score : 0.642%\n"
     ]
    }
   ],
   "source": [
    "# fit model\n",
    "knn.fit(X_train, y_train)\n",
    "\n",
    "# predictions\n",
    "y_pred = knn.predict(X_test)\n",
    "\n",
    "# model score\n",
    "print_score(y_test, y_pred)"
   ]
  },
  {
   "cell_type": "code",
   "execution_count": 87,
   "id": "c6f2661e",
   "metadata": {},
   "outputs": [],
   "source": [
    "# Hyperparameter tuning in knn\n",
    "knn_grid = {'n_neighbors' : list(range(3,100)), 'p' : [1,2]}\n",
    "\n",
    "knn_cv = GridSearchCV(KNeighborsClassifier(), knn_grid, cv=10, n_jobs=-1, verbose=1)"
   ]
  },
  {
   "cell_type": "code",
   "execution_count": 88,
   "id": "38a12ef0",
   "metadata": {},
   "outputs": [
    {
     "name": "stdout",
     "output_type": "stream",
     "text": [
      "Fitting 10 folds for each of 194 candidates, totalling 1940 fits\n"
     ]
    },
    {
     "data": {
      "text/plain": [
       "GridSearchCV(cv=10, estimator=KNeighborsClassifier(), n_jobs=-1,\n",
       "             param_grid={'n_neighbors': [3, 4, 5, 6, 7, 8, 9, 10, 11, 12, 13,\n",
       "                                         14, 15, 16, 17, 18, 19, 20, 21, 22, 23,\n",
       "                                         24, 25, 26, 27, 28, 29, 30, 31, 32, ...],\n",
       "                         'p': [1, 2]},\n",
       "             verbose=1)"
      ]
     },
     "execution_count": 88,
     "metadata": {},
     "output_type": "execute_result"
    }
   ],
   "source": [
    "knn_cv.fit(X_train, y_train)"
   ]
  },
  {
   "cell_type": "code",
   "execution_count": 89,
   "id": "3a638529",
   "metadata": {},
   "outputs": [],
   "source": [
    "best_knn = knn_cv.best_estimator_"
   ]
  },
  {
   "cell_type": "code",
   "execution_count": 90,
   "id": "c72a00b4",
   "metadata": {},
   "outputs": [
    {
     "name": "stdout",
     "output_type": "stream",
     "text": [
      "Accuracy : 0.809%\n",
      "Recall : 0.674%\n",
      "Precision : 0.69%\n",
      "f1 Score : 0.682%\n"
     ]
    }
   ],
   "source": [
    "# fit model\n",
    "best_knn.fit(X_train, y_train)\n",
    "\n",
    "# predictions\n",
    "y_pred = best_knn.predict(X_test)\n",
    "\n",
    "# print score\n",
    "print_score(y_test, y_pred)"
   ]
  },
  {
   "cell_type": "markdown",
   "id": "11c3552b",
   "metadata": {},
   "source": [
    "# XGBClassifier"
   ]
  },
  {
   "cell_type": "code",
   "execution_count": 91,
   "id": "0e3685bf",
   "metadata": {},
   "outputs": [
    {
     "name": "stdout",
     "output_type": "stream",
     "text": [
      "Accuracy : 0.801%\n",
      "Recall : 0.558%\n",
      "Precision : 0.727%\n",
      "f1 Score : 0.632%\n"
     ]
    }
   ],
   "source": [
    "# fit data\n",
    "xgb.fit(X_train, y_train)\n",
    "\n",
    "# predictions\n",
    "y_pred = xgb.predict(X_test)\n",
    "\n",
    "# print scores\n",
    "print_score(y_test, y_pred)"
   ]
  },
  {
   "cell_type": "code",
   "execution_count": 92,
   "id": "159e6f64",
   "metadata": {},
   "outputs": [],
   "source": [
    "# Hyperparameter tuning in xgb\n",
    "xgb_grid = {'eta': [0.3, 0.4, 0.5, 0.6, 0.7, 0.8], \"learning_rate\": [0.01, 0.05, 0.1], \"n_estimators\": \n",
    "            [100, 500, 1000]}\n",
    "\n",
    "xgb_cv = GridSearchCV(XGBClassifier(booster = 'gbtree'), xgb_grid, cv=10, n_jobs=-1, verbose=1)"
   ]
  },
  {
   "cell_type": "code",
   "execution_count": 93,
   "id": "d9322dbe",
   "metadata": {},
   "outputs": [
    {
     "name": "stdout",
     "output_type": "stream",
     "text": [
      "Fitting 10 folds for each of 54 candidates, totalling 540 fits\n"
     ]
    },
    {
     "data": {
      "text/plain": [
       "GridSearchCV(cv=10,\n",
       "             estimator=XGBClassifier(base_score=None, booster='gbtree',\n",
       "                                     colsample_bylevel=None,\n",
       "                                     colsample_bynode=None,\n",
       "                                     colsample_bytree=None, gamma=None,\n",
       "                                     gpu_id=None, importance_type='gain',\n",
       "                                     interaction_constraints=None,\n",
       "                                     learning_rate=None, max_delta_step=None,\n",
       "                                     max_depth=None, min_child_weight=None,\n",
       "                                     missing=nan, monotone_constraints=None,\n",
       "                                     n_estimators=100, n_jobs=None,\n",
       "                                     num_parallel_tree=None, random_state=None,\n",
       "                                     reg_alpha=None, reg_lambda=None,\n",
       "                                     scale_pos_weight=None, subsample=None,\n",
       "                                     tree_method=None, validate_parameters=None,\n",
       "                                     verbosity=None),\n",
       "             n_jobs=-1,\n",
       "             param_grid={'eta': [0.3, 0.4, 0.5, 0.6, 0.7, 0.8],\n",
       "                         'learning_rate': [0.01, 0.05, 0.1],\n",
       "                         'n_estimators': [100, 500, 1000]},\n",
       "             verbose=1)"
      ]
     },
     "execution_count": 93,
     "metadata": {},
     "output_type": "execute_result"
    }
   ],
   "source": [
    "xgb_cv.fit(X_train, y_train)"
   ]
  },
  {
   "cell_type": "code",
   "execution_count": 94,
   "id": "f9ed6b65",
   "metadata": {},
   "outputs": [],
   "source": [
    "best_xgb = xgb_cv.best_estimator_"
   ]
  },
  {
   "cell_type": "code",
   "execution_count": 95,
   "id": "0cfd1f41",
   "metadata": {},
   "outputs": [
    {
     "name": "stdout",
     "output_type": "stream",
     "text": [
      "Accuracy : 0.816%\n",
      "Recall : 0.628%\n",
      "Precision : 0.73%\n",
      "f1 Score : 0.675%\n"
     ]
    }
   ],
   "source": [
    "# fit model\n",
    "best_xgb.fit(X_train, y_train)\n",
    "\n",
    "# predictions\n",
    "y_pred = best_xgb.predict(X_test)\n",
    "\n",
    "# print score\n",
    "print_score(y_test, y_pred)"
   ]
  },
  {
   "cell_type": "markdown",
   "id": "1a5590d5",
   "metadata": {},
   "source": [
    "# SVC"
   ]
  },
  {
   "cell_type": "code",
   "execution_count": 99,
   "id": "cd29605d",
   "metadata": {},
   "outputs": [
    {
     "name": "stdout",
     "output_type": "stream",
     "text": [
      "Accuracy : 0.809%\n",
      "Recall : 0.698%\n",
      "Precision : 0.682%\n",
      "f1 Score : 0.69%\n"
     ]
    }
   ],
   "source": [
    "# fit data\n",
    "svc.fit(X_train, y_train)\n",
    "\n",
    "# predictions\n",
    "y_pred = svc.predict(X_test)\n",
    "\n",
    "# print scores\n",
    "print_score(y_test, y_pred)"
   ]
  },
  {
   "cell_type": "code",
   "execution_count": 101,
   "id": "a56050f0",
   "metadata": {},
   "outputs": [],
   "source": [
    "# Hyperparameter tuning in svc\n",
    "svc_grid = {'kernel': ['rbf', 'poly', 'sigmoid'], 'degree':[2,3,4,5,6,7], 'gamma': np.linspace(0,1,10).tolist()}\n",
    "\n",
    "svc_cv = GridSearchCV(SVC(), svc_grid, cv=10, n_jobs=-1, verbose=1)"
   ]
  },
  {
   "cell_type": "code",
   "execution_count": 102,
   "id": "13c437b1",
   "metadata": {},
   "outputs": [
    {
     "name": "stdout",
     "output_type": "stream",
     "text": [
      "Fitting 10 folds for each of 180 candidates, totalling 1800 fits\n"
     ]
    },
    {
     "data": {
      "text/plain": [
       "GridSearchCV(cv=10, estimator=SVC(), n_jobs=-1,\n",
       "             param_grid={'degree': [2, 3, 4, 5, 6, 7],\n",
       "                         'gamma': [0.0, 0.1111111111111111, 0.2222222222222222,\n",
       "                                   0.3333333333333333, 0.4444444444444444,\n",
       "                                   0.5555555555555556, 0.6666666666666666,\n",
       "                                   0.7777777777777777, 0.8888888888888888,\n",
       "                                   1.0],\n",
       "                         'kernel': ['rbf', 'poly', 'sigmoid']},\n",
       "             verbose=1)"
      ]
     },
     "execution_count": 102,
     "metadata": {},
     "output_type": "execute_result"
    }
   ],
   "source": [
    "svc_cv.fit(X_train, y_train)"
   ]
  },
  {
   "cell_type": "code",
   "execution_count": 103,
   "id": "b86b3e78",
   "metadata": {},
   "outputs": [],
   "source": [
    "best_svc = svc_cv.best_estimator_"
   ]
  },
  {
   "cell_type": "code",
   "execution_count": 105,
   "id": "ff92c5bd",
   "metadata": {},
   "outputs": [
    {
     "name": "stdout",
     "output_type": "stream",
     "text": [
      "Accuracy : 0.801%\n",
      "Recall : 0.721%\n",
      "Precision : 0.66%\n",
      "f1 Score : 0.689%\n"
     ]
    }
   ],
   "source": [
    "# fit model\n",
    "best_svc.fit(X_train, y_train)\n",
    "\n",
    "# predictions\n",
    "y_pred = best_svc.predict(X_test)\n",
    "\n",
    "# print score\n",
    "print_score(y_test, y_pred)"
   ]
  },
  {
   "cell_type": "markdown",
   "id": "720c352f",
   "metadata": {},
   "source": [
    "# Evaluation\n",
    "\n",
    "Purely on accuracy score, best_rf and best_xgb have the highest accuracy of 0.816%\n",
    "\n",
    "**best_rf : 0.816**\n",
    "\n",
    "**best_xgb : 0.816**\n",
    "\n",
    "**best_knn : 0.809**\n",
    "\n",
    "**best_svc : 0.801**\n",
    "\n",
    "**best_dt : 0.801**"
   ]
  },
  {
   "cell_type": "code",
   "execution_count": 110,
   "id": "46bddb8b",
   "metadata": {},
   "outputs": [],
   "source": [
    "# use best_rf to predict on test set\n",
    "y_predictions = best_xgb.predict(test)"
   ]
  },
  {
   "cell_type": "code",
   "execution_count": 111,
   "id": "1bfdea93",
   "metadata": {},
   "outputs": [],
   "source": [
    "y_predictions = pd.DataFrame(y_predictions)"
   ]
  },
  {
   "cell_type": "code",
   "execution_count": 112,
   "id": "494c2517",
   "metadata": {},
   "outputs": [],
   "source": [
    "output = pd.DataFrame({'PassengerId': test_id.iloc[:, 0], 'Survived': y_predictions.iloc[:, 0]})"
   ]
  },
  {
   "cell_type": "code",
   "execution_count": 113,
   "id": "b71c14cf",
   "metadata": {},
   "outputs": [
    {
     "name": "stdout",
     "output_type": "stream",
     "text": [
      "Your submission was successfully saved!\n"
     ]
    }
   ],
   "source": [
    "output.to_csv('submission.csv', index=False)\n",
    "\n",
    "print(\"Your submission was successfully saved!\")"
   ]
  }
 ],
 "metadata": {
  "kernelspec": {
   "display_name": "Python 3",
   "language": "python",
   "name": "python3"
  },
  "language_info": {
   "codemirror_mode": {
    "name": "ipython",
    "version": 3
   },
   "file_extension": ".py",
   "mimetype": "text/x-python",
   "name": "python",
   "nbconvert_exporter": "python",
   "pygments_lexer": "ipython3",
   "version": "3.8.8"
  }
 },
 "nbformat": 4,
 "nbformat_minor": 5
}
